{
 "cells": [
  {
   "cell_type": "markdown",
   "metadata": {},
   "source": [
    "## Seattle Police Department dataset\n"
   ]
  },
  {
   "cell_type": "markdown",
   "metadata": {},
   "source": [
    "## Description\n",
    "This data represents crime reported to the Seattle Police Department (SPD). Each row contains the record of a unique event where at least one criminal offense was reported by a member of the community or detected by an officer in the field. The Dataset is used in meetings for strategic planning, accountability and performance managment. \n",
    "This updated process includes all records of crime reports logged in the Departments Records Management System (RMS) since 2008, which are tracked as part of the SeaStat process. Records are evolved daily and are continually refreshed. \n",
    "\n",
    "For more information visit https://data.seattle.gov/Public-Safety/Crime-Data/4fs7-3vj5\n",
    "\n",
    "OpenML project: https://www.openml.org/d/41960"
   ]
  },
  {
   "cell_type": "markdown",
   "metadata": {},
   "source": [
    "### Problem statement: Build a ML model that will predict the accuracy for an Primary Offense by a given all other feature variables (e.g. Neighborhood, Beat, etc.)\n",
    "* **Target** is Primary Offense Description\n",
    "* **Features** are the other variables"
   ]
  },
  {
   "cell_type": "markdown",
   "metadata": {},
   "source": [
    "### Load Pandas and Numpy Library\n"
   ]
  },
  {
   "cell_type": "code",
   "execution_count": 1,
   "metadata": {},
   "outputs": [],
   "source": [
    "# Setup\n",
    "# display full output in Jupyter, not only last result\n",
    "from IPython.core.interactiveshell import InteractiveShell\n",
    "InteractiveShell.ast_node_interactivity = \"all\"\n",
    "from warnings import simplefilter\n",
    "# ignore all future warnings\n",
    "simplefilter(action='ignore', category=FutureWarning)"
   ]
  },
  {
   "cell_type": "code",
   "execution_count": 2,
   "metadata": {},
   "outputs": [],
   "source": [
    "# load necessary libraries\n",
    "import pandas as pd\n",
    "import numpy as np"
   ]
  },
  {
   "cell_type": "markdown",
   "metadata": {},
   "source": [
    "### Set Options for Displaying Data\n",
    "\n",
    "Customize behaviour and display-related options to expand the output display to see more columns"
   ]
  },
  {
   "cell_type": "code",
   "execution_count": 3,
   "metadata": {},
   "outputs": [],
   "source": [
    "pd.set_option('display.max_rows', 500)\n",
    "pd.set_option('display.max_columns', 500)\n",
    "pd.set_option('display.width', 1000)"
   ]
  },
  {
   "cell_type": "markdown",
   "metadata": {},
   "source": [
    "### Load Dataset\n",
    "\n",
    "The Seattle Police Crime Dataset is been loading and saved into a variable. The first 10 columns are being display. The shape gives an overview over the total number of data and columns"
   ]
  },
  {
   "cell_type": "code",
   "execution_count": 4,
   "metadata": {},
   "outputs": [
    {
     "data": {
      "text/html": [
       "<div>\n",
       "<style scoped>\n",
       "    .dataframe tbody tr th:only-of-type {\n",
       "        vertical-align: middle;\n",
       "    }\n",
       "\n",
       "    .dataframe tbody tr th {\n",
       "        vertical-align: top;\n",
       "    }\n",
       "\n",
       "    .dataframe thead th {\n",
       "        text-align: right;\n",
       "    }\n",
       "</style>\n",
       "<table border=\"1\" class=\"dataframe\">\n",
       "  <thead>\n",
       "    <tr style=\"text-align: right;\">\n",
       "      <th></th>\n",
       "      <th>Report_Number</th>\n",
       "      <th>Occurred_Time</th>\n",
       "      <th>Reported_Time</th>\n",
       "      <th>Crime_Subcategory</th>\n",
       "      <th>Primary_Offense_Description</th>\n",
       "      <th>Precinct</th>\n",
       "      <th>Sector</th>\n",
       "      <th>Beat</th>\n",
       "      <th>Neighborhood</th>\n",
       "    </tr>\n",
       "  </thead>\n",
       "  <tbody>\n",
       "    <tr>\n",
       "      <th>0</th>\n",
       "      <td>1975000079415</td>\n",
       "      <td>900</td>\n",
       "      <td>1500</td>\n",
       "      <td>BURGLARY-RESIDENTIAL</td>\n",
       "      <td>BURGLARY-FORCE-RES</td>\n",
       "      <td>SOUTH</td>\n",
       "      <td>R</td>\n",
       "      <td>R3</td>\n",
       "      <td>'LAKEWOOD/SEWARD PARK'</td>\n",
       "    </tr>\n",
       "    <tr>\n",
       "      <th>1</th>\n",
       "      <td>1976000069169</td>\n",
       "      <td>1</td>\n",
       "      <td>2359</td>\n",
       "      <td>'SEX OFFENSE-OTHER'</td>\n",
       "      <td>'SEXOFF-INDECENT LIBERTIES'</td>\n",
       "      <td>UNKNOWN</td>\n",
       "      <td>?</td>\n",
       "      <td>?</td>\n",
       "      <td>UNKNOWN</td>\n",
       "    </tr>\n",
       "    <tr>\n",
       "      <th>2</th>\n",
       "      <td>1979000049118</td>\n",
       "      <td>1600</td>\n",
       "      <td>1430</td>\n",
       "      <td>'CAR PROWL'</td>\n",
       "      <td>THEFT-CARPROWL</td>\n",
       "      <td>EAST</td>\n",
       "      <td>G</td>\n",
       "      <td>G2</td>\n",
       "      <td>'CENTRAL AREA/SQUIRE PARK'</td>\n",
       "    </tr>\n",
       "    <tr>\n",
       "      <th>3</th>\n",
       "      <td>19810000305573</td>\n",
       "      <td>2029</td>\n",
       "      <td>2030</td>\n",
       "      <td>HOMICIDE</td>\n",
       "      <td>HOMICIDE-PREMEDITATED-WEAPON</td>\n",
       "      <td>SOUTH</td>\n",
       "      <td>S</td>\n",
       "      <td>S2</td>\n",
       "      <td>BRIGHTON/DUNLAP</td>\n",
       "    </tr>\n",
       "    <tr>\n",
       "      <th>4</th>\n",
       "      <td>1981000076456</td>\n",
       "      <td>2000</td>\n",
       "      <td>435</td>\n",
       "      <td>BURGLARY-RESIDENTIAL</td>\n",
       "      <td>BURGLARY-FORCE-RES</td>\n",
       "      <td>SOUTHWEST</td>\n",
       "      <td>W</td>\n",
       "      <td>W3</td>\n",
       "      <td>'ROXHILL/WESTWOOD/ARBOR HEIGHTS'</td>\n",
       "    </tr>\n",
       "    <tr>\n",
       "      <th>5</th>\n",
       "      <td>19880000507482</td>\n",
       "      <td>155</td>\n",
       "      <td>155</td>\n",
       "      <td>'MOTOR VEHICLE THEFT'</td>\n",
       "      <td>VEH-THEFT-AUTO</td>\n",
       "      <td>WEST</td>\n",
       "      <td>M</td>\n",
       "      <td>M2</td>\n",
       "      <td>SLU/CASCADE</td>\n",
       "    </tr>\n",
       "    <tr>\n",
       "      <th>6</th>\n",
       "      <td>19930000465323</td>\n",
       "      <td>2213</td>\n",
       "      <td>2213</td>\n",
       "      <td>HOMICIDE</td>\n",
       "      <td>HOMICIDE-PREMEDITATED-GUN</td>\n",
       "      <td>SOUTH</td>\n",
       "      <td>R</td>\n",
       "      <td>R2</td>\n",
       "      <td>'CLAREMONT/RAINIER VISTA'</td>\n",
       "    </tr>\n",
       "    <tr>\n",
       "      <th>7</th>\n",
       "      <td>19940000264046</td>\n",
       "      <td>0</td>\n",
       "      <td>844</td>\n",
       "      <td>'THEFT-ALL OTHER'</td>\n",
       "      <td>THEFT-OTH</td>\n",
       "      <td>SOUTHWEST</td>\n",
       "      <td>F</td>\n",
       "      <td>F1</td>\n",
       "      <td>'HIGH POINT'</td>\n",
       "    </tr>\n",
       "    <tr>\n",
       "      <th>8</th>\n",
       "      <td>19960000543964</td>\n",
       "      <td>1130</td>\n",
       "      <td>1700</td>\n",
       "      <td>'CAR PROWL'</td>\n",
       "      <td>THEFT-CARPROWL</td>\n",
       "      <td>SOUTH</td>\n",
       "      <td>O</td>\n",
       "      <td>O1</td>\n",
       "      <td>SODO</td>\n",
       "    </tr>\n",
       "    <tr>\n",
       "      <th>9</th>\n",
       "      <td>19990000333737</td>\n",
       "      <td>?</td>\n",
       "      <td>?</td>\n",
       "      <td>THEFT-SHOPLIFT</td>\n",
       "      <td>THEFT-SHOPLIFT</td>\n",
       "      <td>UNKNOWN</td>\n",
       "      <td>?</td>\n",
       "      <td>?</td>\n",
       "      <td>UNKNOWN</td>\n",
       "    </tr>\n",
       "  </tbody>\n",
       "</table>\n",
       "</div>"
      ],
      "text/plain": [
       "    Report_Number Occurred_Time Reported_Time      Crime_Subcategory   Primary_Offense_Description   Precinct Sector Beat                      Neighborhood\n",
       "0   1975000079415           900          1500   BURGLARY-RESIDENTIAL            BURGLARY-FORCE-RES      SOUTH      R   R3            'LAKEWOOD/SEWARD PARK'\n",
       "1   1976000069169             1          2359    'SEX OFFENSE-OTHER'   'SEXOFF-INDECENT LIBERTIES'    UNKNOWN      ?    ?                           UNKNOWN\n",
       "2   1979000049118          1600          1430            'CAR PROWL'                THEFT-CARPROWL       EAST      G   G2        'CENTRAL AREA/SQUIRE PARK'\n",
       "3  19810000305573          2029          2030               HOMICIDE  HOMICIDE-PREMEDITATED-WEAPON      SOUTH      S   S2                   BRIGHTON/DUNLAP\n",
       "4   1981000076456          2000           435   BURGLARY-RESIDENTIAL            BURGLARY-FORCE-RES  SOUTHWEST      W   W3  'ROXHILL/WESTWOOD/ARBOR HEIGHTS'\n",
       "5  19880000507482           155           155  'MOTOR VEHICLE THEFT'                VEH-THEFT-AUTO       WEST      M   M2                       SLU/CASCADE\n",
       "6  19930000465323          2213          2213               HOMICIDE     HOMICIDE-PREMEDITATED-GUN      SOUTH      R   R2         'CLAREMONT/RAINIER VISTA'\n",
       "7  19940000264046             0           844      'THEFT-ALL OTHER'                     THEFT-OTH  SOUTHWEST      F   F1                      'HIGH POINT'\n",
       "8  19960000543964          1130          1700            'CAR PROWL'                THEFT-CARPROWL      SOUTH      O   O1                              SODO\n",
       "9  19990000333737             ?             ?         THEFT-SHOPLIFT                THEFT-SHOPLIFT    UNKNOWN      ?    ?                           UNKNOWN"
      ]
     },
     "execution_count": 4,
     "metadata": {},
     "output_type": "execute_result"
    },
    {
     "data": {
      "text/plain": [
       "(523590, 9)"
      ]
     },
     "execution_count": 4,
     "metadata": {},
     "output_type": "execute_result"
    }
   ],
   "source": [
    "crime = pd.read_csv(\"Seattle_Crime_Data_06-23-2019-4.csv\", low_memory=False) # load dataset into jupyter\n",
    "crime.head(10) # display first 10 columns \n",
    "crime.shape # Total Number of data with number of columns"
   ]
  },
  {
   "cell_type": "markdown",
   "metadata": {},
   "source": [
    "* 523590 = Total number of data\n",
    "* 9 = Columns / features"
   ]
  },
  {
   "cell_type": "markdown",
   "metadata": {},
   "source": [
    "\n",
    "The table shows no **NaN** values that the data set seems not to have missing values. But it is clear from the first few rows that there are values corresponding to missing **'?'**, **'UNKNOWN'**."
   ]
  },
  {
   "cell_type": "code",
   "execution_count": 5,
   "metadata": {},
   "outputs": [
    {
     "name": "stdout",
     "output_type": "stream",
     "text": [
      "<class 'pandas.core.frame.DataFrame'>\n",
      "RangeIndex: 523590 entries, 0 to 523589\n",
      "Data columns (total 9 columns):\n",
      "Report_Number                  523590 non-null int64\n",
      "Occurred_Time                  523590 non-null object\n",
      "Reported_Time                  523590 non-null object\n",
      "Crime_Subcategory              523590 non-null object\n",
      "Primary_Offense_Description    523590 non-null object\n",
      "Precinct                       523590 non-null object\n",
      "Sector                         523590 non-null object\n",
      "Beat                           523590 non-null object\n",
      "Neighborhood                   523590 non-null object\n",
      "dtypes: int64(1), object(8)\n",
      "memory usage: 36.0+ MB\n"
     ]
    }
   ],
   "source": [
    "crime.info()"
   ]
  },
  {
   "cell_type": "markdown",
   "metadata": {},
   "source": [
    "We can see that there are quite a lot of NaN in Precint, Sector, Beat, Neighborhood and Crime_subcategory. To decide how do deal with them, we have to understand the meaning of each feature"
   ]
  },
  {
   "cell_type": "markdown",
   "metadata": {},
   "source": [
    "Each row is a **unique crime report record**\n",
    "**Columns in the Dataset**\n",
    "* **Report Number** = Unique ID\n",
    "* **Occured Time** = Time the offense occured on the 24 hour clock\n",
    "* **Reprted Time** = Time the offense has been reported on the 24 hour clock\n",
    "* **Crime Subcategory** = More detailed description of the Primary Offense\n",
    "* **Primary Offense** = Description of the occured offense\n",
    "* **Precinct** = District where offense occured\n",
    "* **Sector** = Sector of the district\n",
    "* **Beats** = Granular unit of management for patrol deployment\n",
    "* **Neighborhood** = Location of the occured offense\n",
    "\n",
    "**Note: The Dataset doesn't provide any dates**"
   ]
  },
  {
   "cell_type": "markdown",
   "metadata": {},
   "source": [
    "## Preprocessing"
   ]
  },
  {
   "cell_type": "markdown",
   "metadata": {},
   "source": [
    "### Handling missing data\n",
    "\n",
    "The data includes some missing data called **“?”** or **“unknown”**. Treating missing values, the data set is loaded again and all missing values are replaced using **“NaN”** to find and handle missing values faster."
   ]
  },
  {
   "cell_type": "code",
   "execution_count": 6,
   "metadata": {},
   "outputs": [
    {
     "data": {
      "text/html": [
       "<div>\n",
       "<style scoped>\n",
       "    .dataframe tbody tr th:only-of-type {\n",
       "        vertical-align: middle;\n",
       "    }\n",
       "\n",
       "    .dataframe tbody tr th {\n",
       "        vertical-align: top;\n",
       "    }\n",
       "\n",
       "    .dataframe thead th {\n",
       "        text-align: right;\n",
       "    }\n",
       "</style>\n",
       "<table border=\"1\" class=\"dataframe\">\n",
       "  <thead>\n",
       "    <tr style=\"text-align: right;\">\n",
       "      <th></th>\n",
       "      <th>Report_Number</th>\n",
       "      <th>Occurred_Time</th>\n",
       "      <th>Reported_Time</th>\n",
       "      <th>Crime_Subcategory</th>\n",
       "      <th>Primary_Offense_Description</th>\n",
       "      <th>Precinct</th>\n",
       "      <th>Sector</th>\n",
       "      <th>Beat</th>\n",
       "      <th>Neighborhood</th>\n",
       "    </tr>\n",
       "  </thead>\n",
       "  <tbody>\n",
       "    <tr>\n",
       "      <th>0</th>\n",
       "      <td>1975000079415</td>\n",
       "      <td>900</td>\n",
       "      <td>1500</td>\n",
       "      <td>BURGLARY-RESIDENTIAL</td>\n",
       "      <td>BURGLARY-FORCE-RES</td>\n",
       "      <td>SOUTH</td>\n",
       "      <td>R</td>\n",
       "      <td>R3</td>\n",
       "      <td>'LAKEWOOD/SEWARD PARK'</td>\n",
       "    </tr>\n",
       "    <tr>\n",
       "      <th>1</th>\n",
       "      <td>1976000069169</td>\n",
       "      <td>1</td>\n",
       "      <td>2359</td>\n",
       "      <td>'SEX OFFENSE-OTHER'</td>\n",
       "      <td>'SEXOFF-INDECENT LIBERTIES'</td>\n",
       "      <td>NaN</td>\n",
       "      <td>NaN</td>\n",
       "      <td>NaN</td>\n",
       "      <td>NaN</td>\n",
       "    </tr>\n",
       "    <tr>\n",
       "      <th>2</th>\n",
       "      <td>1979000049118</td>\n",
       "      <td>1600</td>\n",
       "      <td>1430</td>\n",
       "      <td>'CAR PROWL'</td>\n",
       "      <td>THEFT-CARPROWL</td>\n",
       "      <td>EAST</td>\n",
       "      <td>G</td>\n",
       "      <td>G2</td>\n",
       "      <td>'CENTRAL AREA/SQUIRE PARK'</td>\n",
       "    </tr>\n",
       "    <tr>\n",
       "      <th>3</th>\n",
       "      <td>19810000305573</td>\n",
       "      <td>2029</td>\n",
       "      <td>2030</td>\n",
       "      <td>HOMICIDE</td>\n",
       "      <td>HOMICIDE-PREMEDITATED-WEAPON</td>\n",
       "      <td>SOUTH</td>\n",
       "      <td>S</td>\n",
       "      <td>S2</td>\n",
       "      <td>BRIGHTON/DUNLAP</td>\n",
       "    </tr>\n",
       "    <tr>\n",
       "      <th>4</th>\n",
       "      <td>1981000076456</td>\n",
       "      <td>2000</td>\n",
       "      <td>435</td>\n",
       "      <td>BURGLARY-RESIDENTIAL</td>\n",
       "      <td>BURGLARY-FORCE-RES</td>\n",
       "      <td>SOUTHWEST</td>\n",
       "      <td>W</td>\n",
       "      <td>W3</td>\n",
       "      <td>'ROXHILL/WESTWOOD/ARBOR HEIGHTS'</td>\n",
       "    </tr>\n",
       "    <tr>\n",
       "      <th>5</th>\n",
       "      <td>19880000507482</td>\n",
       "      <td>155</td>\n",
       "      <td>155</td>\n",
       "      <td>'MOTOR VEHICLE THEFT'</td>\n",
       "      <td>VEH-THEFT-AUTO</td>\n",
       "      <td>WEST</td>\n",
       "      <td>M</td>\n",
       "      <td>M2</td>\n",
       "      <td>SLU/CASCADE</td>\n",
       "    </tr>\n",
       "    <tr>\n",
       "      <th>6</th>\n",
       "      <td>19930000465323</td>\n",
       "      <td>2213</td>\n",
       "      <td>2213</td>\n",
       "      <td>HOMICIDE</td>\n",
       "      <td>HOMICIDE-PREMEDITATED-GUN</td>\n",
       "      <td>SOUTH</td>\n",
       "      <td>R</td>\n",
       "      <td>R2</td>\n",
       "      <td>'CLAREMONT/RAINIER VISTA'</td>\n",
       "    </tr>\n",
       "    <tr>\n",
       "      <th>7</th>\n",
       "      <td>19940000264046</td>\n",
       "      <td>0</td>\n",
       "      <td>844</td>\n",
       "      <td>'THEFT-ALL OTHER'</td>\n",
       "      <td>THEFT-OTH</td>\n",
       "      <td>SOUTHWEST</td>\n",
       "      <td>F</td>\n",
       "      <td>F1</td>\n",
       "      <td>'HIGH POINT'</td>\n",
       "    </tr>\n",
       "    <tr>\n",
       "      <th>8</th>\n",
       "      <td>19960000543964</td>\n",
       "      <td>1130</td>\n",
       "      <td>1700</td>\n",
       "      <td>'CAR PROWL'</td>\n",
       "      <td>THEFT-CARPROWL</td>\n",
       "      <td>SOUTH</td>\n",
       "      <td>O</td>\n",
       "      <td>O1</td>\n",
       "      <td>SODO</td>\n",
       "    </tr>\n",
       "    <tr>\n",
       "      <th>9</th>\n",
       "      <td>19990000333737</td>\n",
       "      <td>NaN</td>\n",
       "      <td>NaN</td>\n",
       "      <td>THEFT-SHOPLIFT</td>\n",
       "      <td>THEFT-SHOPLIFT</td>\n",
       "      <td>NaN</td>\n",
       "      <td>NaN</td>\n",
       "      <td>NaN</td>\n",
       "      <td>NaN</td>\n",
       "    </tr>\n",
       "  </tbody>\n",
       "</table>\n",
       "</div>"
      ],
      "text/plain": [
       "    Report_Number Occurred_Time Reported_Time      Crime_Subcategory   Primary_Offense_Description   Precinct Sector Beat                      Neighborhood\n",
       "0   1975000079415           900          1500   BURGLARY-RESIDENTIAL            BURGLARY-FORCE-RES      SOUTH      R   R3            'LAKEWOOD/SEWARD PARK'\n",
       "1   1976000069169             1          2359    'SEX OFFENSE-OTHER'   'SEXOFF-INDECENT LIBERTIES'        NaN    NaN  NaN                               NaN\n",
       "2   1979000049118          1600          1430            'CAR PROWL'                THEFT-CARPROWL       EAST      G   G2        'CENTRAL AREA/SQUIRE PARK'\n",
       "3  19810000305573          2029          2030               HOMICIDE  HOMICIDE-PREMEDITATED-WEAPON      SOUTH      S   S2                   BRIGHTON/DUNLAP\n",
       "4   1981000076456          2000           435   BURGLARY-RESIDENTIAL            BURGLARY-FORCE-RES  SOUTHWEST      W   W3  'ROXHILL/WESTWOOD/ARBOR HEIGHTS'\n",
       "5  19880000507482           155           155  'MOTOR VEHICLE THEFT'                VEH-THEFT-AUTO       WEST      M   M2                       SLU/CASCADE\n",
       "6  19930000465323          2213          2213               HOMICIDE     HOMICIDE-PREMEDITATED-GUN      SOUTH      R   R2         'CLAREMONT/RAINIER VISTA'\n",
       "7  19940000264046             0           844      'THEFT-ALL OTHER'                     THEFT-OTH  SOUTHWEST      F   F1                      'HIGH POINT'\n",
       "8  19960000543964          1130          1700            'CAR PROWL'                THEFT-CARPROWL      SOUTH      O   O1                              SODO\n",
       "9  19990000333737           NaN           NaN         THEFT-SHOPLIFT                THEFT-SHOPLIFT        NaN    NaN  NaN                               NaN"
      ]
     },
     "execution_count": 6,
     "metadata": {},
     "output_type": "execute_result"
    },
    {
     "data": {
      "text/plain": [
       "(523590, 9)"
      ]
     },
     "execution_count": 6,
     "metadata": {},
     "output_type": "execute_result"
    }
   ],
   "source": [
    "crime_nan = crime.apply(lambda x: x.replace(['?', 'UNKNOWN'], np.nan)) #Lambda functions replaces '?' and 'UNKNOWN' values with 'NaN'\n",
    "crime_nan.head(10) # display first 10 rows\n",
    "crime_nan.shape"
   ]
  },
  {
   "cell_type": "markdown",
   "metadata": {},
   "source": [
    "### Computation missing values for each column\n",
    "\n",
    "To have an overview over the missing values, missing data is counted using the **sum()** operation. Approximately 3600 rows contain missing values "
   ]
  },
  {
   "cell_type": "code",
   "execution_count": 7,
   "metadata": {},
   "outputs": [
    {
     "name": "stdout",
     "output_type": "stream",
     "text": [
      "Report_Number                     0\n",
      "Occurred_Time                     2\n",
      "Reported_Time                     2\n",
      "Crime_Subcategory               262\n",
      "Primary_Offense_Description       0\n",
      "Precinct                       3352\n",
      "Sector                         3346\n",
      "Beat                           3298\n",
      "Neighborhood                   3366\n",
      "dtype: int64\n"
     ]
    }
   ],
   "source": [
    "print(crime_nan.isnull().sum()) # Computate the sum of missing values (NaN) for each column"
   ]
  },
  {
   "cell_type": "markdown",
   "metadata": {},
   "source": [
    "#### Dropping remaing NaN vaules from the dataset and creatingnew dataset called crime_sub"
   ]
  },
  {
   "cell_type": "code",
   "execution_count": 8,
   "metadata": {},
   "outputs": [
    {
     "name": "stdout",
     "output_type": "stream",
     "text": [
      "Report_Number                  0\n",
      "Occurred_Time                  0\n",
      "Reported_Time                  0\n",
      "Crime_Subcategory              0\n",
      "Primary_Offense_Description    0\n",
      "Precinct                       0\n",
      "Sector                         0\n",
      "Beat                           0\n",
      "Neighborhood                   0\n",
      "dtype: int64\n",
      "     Report_Number Occurred_Time Reported_Time      Crime_Subcategory   Primary_Offense_Description   Precinct Sector Beat                      Neighborhood\n",
      "0    1975000079415           900          1500   BURGLARY-RESIDENTIAL            BURGLARY-FORCE-RES      SOUTH      R   R3            'LAKEWOOD/SEWARD PARK'\n",
      "2    1979000049118          1600          1430            'CAR PROWL'                THEFT-CARPROWL       EAST      G   G2        'CENTRAL AREA/SQUIRE PARK'\n",
      "3   19810000305573          2029          2030               HOMICIDE  HOMICIDE-PREMEDITATED-WEAPON      SOUTH      S   S2                   BRIGHTON/DUNLAP\n",
      "4    1981000076456          2000           435   BURGLARY-RESIDENTIAL            BURGLARY-FORCE-RES  SOUTHWEST      W   W3  'ROXHILL/WESTWOOD/ARBOR HEIGHTS'\n",
      "5   19880000507482           155           155  'MOTOR VEHICLE THEFT'                VEH-THEFT-AUTO       WEST      M   M2                       SLU/CASCADE\n",
      "6   19930000465323          2213          2213               HOMICIDE     HOMICIDE-PREMEDITATED-GUN      SOUTH      R   R2         'CLAREMONT/RAINIER VISTA'\n",
      "7   19940000264046             0           844      'THEFT-ALL OTHER'                     THEFT-OTH  SOUTHWEST      F   F1                      'HIGH POINT'\n",
      "8   19960000543964          1130          1700            'CAR PROWL'                THEFT-CARPROWL      SOUTH      O   O1                              SODO\n",
      "10  20000000216737          2330          1055            'CAR PROWL'                THEFT-CARPROWL       WEST      Q   Q3                       SLU/CASCADE\n",
      "11   2001000024668          2310          2310               HOMICIDE     HOMICIDE-PREMEDITATED-GUN       WEST      K   K3             'DOWNTOWN COMMERCIAL'\n"
     ]
    },
    {
     "data": {
      "text/plain": [
       "(519961, 9)"
      ]
     },
     "execution_count": 8,
     "metadata": {},
     "output_type": "execute_result"
    }
   ],
   "source": [
    "crime_sub = crime_nan.dropna() # Create subset without missing values\n",
    "print(crime_sub.isnull().sum()) # Check if any missing values are left \n",
    "print(crime_sub.head(10)) # Display first 10 columns of new subset\n",
    "crime_sub.shape #Total Number of data with number of columns (3629 rows deleted)"
   ]
  },
  {
   "cell_type": "markdown",
   "metadata": {},
   "source": [
    "### Create new column\n",
    "\n",
    "To better understand the dataset we decided to create a new column “Response time”. This column should have demonstrated the time between the time of crime and the time of the reporting of that crime. Unfortunately, the dataset does not contain any dates. So we don’t know whether the crime was reported on the same day or maybe a day after. Therefore sometimes negative Response Times are being displayed."
   ]
  },
  {
   "cell_type": "code",
   "execution_count": 9,
   "metadata": {
    "scrolled": true
   },
   "outputs": [
    {
     "name": "stderr",
     "output_type": "stream",
     "text": [
      "C:\\Users\\erenu\\Anaconda3\\lib\\site-packages\\ipykernel_launcher.py:2: SettingWithCopyWarning: \n",
      "A value is trying to be set on a copy of a slice from a DataFrame.\n",
      "Try using .loc[row_indexer,col_indexer] = value instead\n",
      "\n",
      "See the caveats in the documentation: http://pandas.pydata.org/pandas-docs/stable/indexing.html#indexing-view-versus-copy\n",
      "  \n"
     ]
    }
   ],
   "source": [
    "# Create new Column 'Response Time' by subtracting 'Reportied Time - Occured Time'\n",
    "crime_sub['Response_Time'] = pd.to_numeric(crime_sub['Reported_Time'], errors='coerce') - pd.to_numeric(crime_sub['Occurred_Time'], errors='coerce')\n",
    "# Note: Negative Values appear due to the lack of dates"
   ]
  },
  {
   "cell_type": "code",
   "execution_count": 10,
   "metadata": {},
   "outputs": [
    {
     "name": "stdout",
     "output_type": "stream",
     "text": [
      "     Report_Number Occurred_Time Reported_Time  Response_Time      Crime_Subcategory   Primary_Offense_Description   Precinct Sector Beat                      Neighborhood\n",
      "0    1975000079415           900          1500            600   BURGLARY-RESIDENTIAL            BURGLARY-FORCE-RES      SOUTH      R   R3            'LAKEWOOD/SEWARD PARK'\n",
      "2    1979000049118          1600          1430           -170            'CAR PROWL'                THEFT-CARPROWL       EAST      G   G2        'CENTRAL AREA/SQUIRE PARK'\n",
      "3   19810000305573          2029          2030              1               HOMICIDE  HOMICIDE-PREMEDITATED-WEAPON      SOUTH      S   S2                   BRIGHTON/DUNLAP\n",
      "4    1981000076456          2000           435          -1565   BURGLARY-RESIDENTIAL            BURGLARY-FORCE-RES  SOUTHWEST      W   W3  'ROXHILL/WESTWOOD/ARBOR HEIGHTS'\n",
      "5   19880000507482           155           155              0  'MOTOR VEHICLE THEFT'                VEH-THEFT-AUTO       WEST      M   M2                       SLU/CASCADE\n",
      "6   19930000465323          2213          2213              0               HOMICIDE     HOMICIDE-PREMEDITATED-GUN      SOUTH      R   R2         'CLAREMONT/RAINIER VISTA'\n",
      "7   19940000264046             0           844            844      'THEFT-ALL OTHER'                     THEFT-OTH  SOUTHWEST      F   F1                      'HIGH POINT'\n",
      "8   19960000543964          1130          1700            570            'CAR PROWL'                THEFT-CARPROWL      SOUTH      O   O1                              SODO\n",
      "10  20000000216737          2330          1055          -1275            'CAR PROWL'                THEFT-CARPROWL       WEST      Q   Q3                       SLU/CASCADE\n",
      "11   2001000024668          2310          2310              0               HOMICIDE     HOMICIDE-PREMEDITATED-GUN       WEST      K   K3             'DOWNTOWN COMMERCIAL'\n"
     ]
    }
   ],
   "source": [
    "# Put new column Response Time after the columns Occured Time and Reported Time\n",
    "crime_sub = crime_sub[[\"Report_Number\",\"Occurred_Time\",\"Reported_Time\", \"Response_Time\",\"Crime_Subcategory\", \"Primary_Offense_Description\", \"Precinct\", \"Sector\", \"Beat\", \"Neighborhood\"]] \n",
    "print(crime_sub.head(10)) ## Display first 10 columns"
   ]
  },
  {
   "cell_type": "markdown",
   "metadata": {},
   "source": [
    "### Determine amount and percentage for each offense\n",
    "\n",
    "A simple computation is used to determinte the amount and percentage for each offense"
   ]
  },
  {
   "cell_type": "code",
   "execution_count": 11,
   "metadata": {},
   "outputs": [
    {
     "name": "stdout",
     "output_type": "stream",
     "text": [
      "                                       Amount  Percentage\n",
      "'CAR PROWL'                            147593   28.385398\n",
      "'THEFT-ALL OTHER'                       53996   10.384625\n",
      "THEFT-SHOPLIFT                          48607    9.348201\n",
      "BURGLARY-RESIDENTIAL                    46772    8.995290\n",
      "'MOTOR VEHICLE THEFT'                   43442    8.354857\n",
      "BURGLARY-COMMERCIAL                     23499    4.519377\n",
      "THEFT-BUILDING                          21394    4.114539\n",
      "TRESPASS                                17661    3.396601\n",
      "NARCOTIC                                16924    3.254859\n",
      "'AGGRAVATED ASSAULT'                    15482    2.977531\n",
      "DUI                                     12716    2.445568\n",
      "ROBBERY-STREET                          11747    2.259208\n",
      "THEFT-BICYCLE                           11068    2.128621\n",
      "'BURGLARY-RESIDENTIAL-SECURE PARKING'    8845    1.701089\n",
      "'AGGRAVATED ASSAULT-DV'                  6864    1.320099\n",
      "'FAMILY OFFENSE-NONVIOLENT'              6700    1.288558\n",
      "'SEX OFFENSE-OTHER'                      6018    1.157394\n",
      "WEAPON                                   4892    0.940840\n",
      "ROBBERY-COMMERCIAL                       4655    0.895259\n",
      "PROSTITUTION                             3494    0.671973\n",
      "RAPE                                     1830    0.351949\n",
      "'LIQUOR LAW VIOLATION'                   1635    0.314447\n",
      "'BURGLARY-COMMERCIAL-SECURE PARKING'     1163    0.223671\n",
      "ARSON                                    1067    0.205208\n",
      "ROBBERY-RESIDENTIAL                      1058    0.203477\n",
      "'DISORDERLY CONDUCT'                      282    0.054235\n",
      "HOMICIDE                                  275    0.052889\n",
      "PORNOGRAPHY                               175    0.033656\n",
      "LOITERING                                  90    0.017309\n",
      "GAMBLE                                     17    0.003269\n"
     ]
    }
   ],
   "source": [
    "Crime_Subcategory=pd.DataFrame(crime_sub[\"Crime_Subcategory\"].value_counts()) # Count the amount for each offense\n",
    "Crime_Subcategory.columns=[\"Amount\"] # Create new column named 'Amount'\n",
    "Crime_Subcategory[\"Percentage\"]= Crime_Subcategory[\"Amount\"]/Crime_Subcategory[\"Amount\"].sum()*100 # Create new column named 'percentage' and computate it\n",
    "print(Crime_Subcategory) # Print Subcategory with its Amount and Percentage"
   ]
  },
  {
   "cell_type": "markdown",
   "metadata": {},
   "source": [
    "### Plotting the Crime Subcategory\n",
    "To better understand the dataset and to illustrate the data , we plotted the relative share of the top ten Crime Subcategories"
   ]
  },
  {
   "cell_type": "code",
   "execution_count": 13,
   "metadata": {},
   "outputs": [
    {
     "name": "stdout",
     "output_type": "stream",
     "text": [
      "                    Crime  Amount  Percentage\n",
      "0             'CAR PROWL'  147593   28.385398\n",
      "1       'THEFT-ALL OTHER'   53996   10.384625\n",
      "2          THEFT-SHOPLIFT   48607    9.348201\n",
      "3    BURGLARY-RESIDENTIAL   46772    8.995290\n",
      "4   'MOTOR VEHICLE THEFT'   43442    8.354857\n",
      "5     BURGLARY-COMMERCIAL   23499    4.519377\n",
      "6          THEFT-BUILDING   21394    4.114539\n",
      "7                TRESPASS   17661    3.396601\n",
      "8                NARCOTIC   16924    3.254859\n",
      "9    'AGGRAVATED ASSAULT'   15482    2.977531\n",
      "10                  Other   84591   16.268720\n"
     ]
    },
    {
     "data": {
      "text/plain": [
       "([<matplotlib.patches.Wedge at 0x23e92003630>,\n",
       "  <matplotlib.patches.Wedge at 0x23e92003f98>,\n",
       "  <matplotlib.patches.Wedge at 0x23e9200e908>,\n",
       "  <matplotlib.patches.Wedge at 0x23e9201a278>,\n",
       "  <matplotlib.patches.Wedge at 0x23e9201aba8>,\n",
       "  <matplotlib.patches.Wedge at 0x23e92025518>,\n",
       "  <matplotlib.patches.Wedge at 0x23e92025e48>,\n",
       "  <matplotlib.patches.Wedge at 0x23e920317b8>,\n",
       "  <matplotlib.patches.Wedge at 0x23e9203e128>,\n",
       "  <matplotlib.patches.Wedge at 0x23e9203ea58>,\n",
       "  <matplotlib.patches.Wedge at 0x23e9204b3c8>],\n",
       " [Text(-0.8559916984731287, 0.6908532493555258, \"'CAR PROWL'\"),\n",
       "  Text(-0.9440709148893909, -0.5645618723044522, \"'THEFT-ALL OTHER'\"),\n",
       "  Text(-0.440404263090542, -1.0079901215050062, 'THEFT-SHOPLIFT'),\n",
       "  Text(0.17998297955911105, -1.0851756203808787, 'BURGLARY-RESIDENTIAL'),\n",
       "  Text(0.7165422598094132, -0.8346060087893086, \"'MOTOR VEHICLE THEFT'\"),\n",
       "  Text(0.987162287321588, -0.4852943627222667, 'BURGLARY-COMMERCIAL'),\n",
       "  Text(1.0810946813477083, -0.20306228099205814, 'THEFT-BUILDING'),\n",
       "  Text(1.0986086077265687, 0.055309375598452365, 'TRESPASS'),\n",
       "  Text(1.0632367493036559, 0.28200640937786287, 'NARCOTIC'),\n",
       "  Text(0.9880578462539922, 0.4834683986114528, \"'AGGRAVATED ASSAULT'\"),\n",
       "  Text(0.5380476968991417, 0.9594293490724211, 'Other')],\n",
       " [Text(-0.4669045628035247, 0.376829045103014, '28.4%'),\n",
       "  Text(-0.5149477717578494, -0.3079428394387921, '10.4%'),\n",
       "  Text(-0.2402205071402956, -0.5498127935481851, '9.3%'),\n",
       "  Text(0.09817253430496965, -0.5919139747532064, '9.0%'),\n",
       "  Text(0.39084123262331627, -0.45523964115780463, '8.4%'),\n",
       "  Text(0.5384521567208661, -0.2647060160303273, '4.5%'),\n",
       "  Text(0.5896880080078407, -0.11076124417748624, '4.1%'),\n",
       "  Text(0.5992410587599465, 0.03016875032642856, '3.4%'),\n",
       "  Text(0.579947317801994, 0.15382167784247064, '3.3%'),\n",
       "  Text(0.5389406434112683, 0.26371003560624695, '3.0%'),\n",
       "  Text(0.29348056194498634, 0.5233250994940478, '16.3%')])"
      ]
     },
     "execution_count": 13,
     "metadata": {},
     "output_type": "execute_result"
    },
    {
     "data": {
      "text/plain": [
       "(-1.10944260776038, 1.100998581477772, -1.1043558702064555, 1.1002074307911556)"
      ]
     },
     "execution_count": 13,
     "metadata": {},
     "output_type": "execute_result"
    },
    {
     "data": {
      "text/plain": [
       "Text(0.5, 1.0, 'Types of Crimes')"
      ]
     },
     "execution_count": 13,
     "metadata": {},
     "output_type": "execute_result"
    },
    {
     "data": {
      "image/png": "[encoded data removed]",
      "text/plain": [
       "<Figure size 432x288 with 1 Axes>"
      ]
     },
     "metadata": {},
     "output_type": "display_data"
    }
   ],
   "source": [
    "Crime_Subcategory=pd.DataFrame(crime_sub[\"Crime_Subcategory\"].value_counts()) # Count the amount of each offense\n",
    "Crime_Subcategory.columns=[\"Amount\"] # Create new column named 'Amount'\n",
    "Crime_Subcategory['Crime'] = Crime_Subcategory.index # Index the Subcategory column as 'Crime'\n",
    "Crime_Subcategory= Crime_Subcategory[['Crime', \"Amount\"]] #Take the two columns 'Crime' and 'Amount' into the Crime Subcategory\n",
    "Crime_Subcategory.index = range(len(Crime_Subcategory)) # Index the Crime_Subcategory with its range\n",
    "Other = Crime_Subcategory.iloc[10:] #Put all left crimes together in the Crime option 'Other'\n",
    "Other = Other[\"Amount\"].sum() # Computate the Amount for each offense\n",
    "Crime_Subcategory=Crime_Subcategory.iloc[0:10] # Display the top ten offenses with the highest number of offenses\n",
    "Crime_Subcategory = Crime_Subcategory.append({'Crime':'Other', 'Amount':Other} , ignore_index=True) # Set an appendix for the Other option\n",
    "Crime_Subcategory[\"Percentage\"]= Crime_Subcategory[\"Amount\"]/Crime_Subcategory[\"Amount\"].sum()*100 # Computate the precantage for the offenes in relation with the total number of offenses\n",
    "print(Crime_Subcategory) # display the results\n",
    "import matplotlib.pyplot as plt # import matplob library for visualisation\n",
    "color=(\"lavender\", \"steelblue\",\"red\",\"lightcyan\",\"lime\",\"palegreen\",\"yellow\",\n",
    "       \"darkorange\",\"peru\",\"tomato\", \"gray\") # define the shown colors\n",
    "fig1, ax1 = plt.subplots() # set the parameters\n",
    "ax1.pie(Crime_Subcategory[\"Percentage\"], labels=Crime_Subcategory[\"Crime\"], autopct='%1.1f%%',\n",
    "        shadow=True, startangle=90, colors=color) # create the pie chart with the names and the percanteges\n",
    "ax1.axis('equal') #  changes limit of axis so that equal increments have the same length\n",
    "ax1.set_title(\"Types of Crimes\", fontdict={'fontsize': 20, 'fontweight': 'medium'}) # Headline of the pie chart\n",
    "plt.show() # display the pie chart\n",
    "\n",
    "# occasionaly run twice to see the pie chart"
   ]
  },
  {
   "cell_type": "markdown",
   "metadata": {},
   "source": [
    "### Neighborhood value count\n",
    "\n",
    "We count how often one Neigborhood occures in the dataset and display it afterwards"
   ]
  },
  {
   "cell_type": "code",
   "execution_count": 14,
   "metadata": {},
   "outputs": [
    {
     "name": "stdout",
     "output_type": "stream",
     "text": [
      "     Report_Number Occurred_Time Reported_Time  Response_Time      Crime_Subcategory   Primary_Offense_Description   Precinct Sector Beat                      Neighborhood\n",
      "0    1975000079415           900          1500            600   BURGLARY-RESIDENTIAL            BURGLARY-FORCE-RES      SOUTH      R   R3            'LAKEWOOD/SEWARD PARK'\n",
      "2    1979000049118          1600          1430           -170            'CAR PROWL'                THEFT-CARPROWL       EAST      G   G2        'CENTRAL AREA/SQUIRE PARK'\n",
      "3   19810000305573          2029          2030              1               HOMICIDE  HOMICIDE-PREMEDITATED-WEAPON      SOUTH      S   S2                   BRIGHTON/DUNLAP\n",
      "4    1981000076456          2000           435          -1565   BURGLARY-RESIDENTIAL            BURGLARY-FORCE-RES  SOUTHWEST      W   W3  'ROXHILL/WESTWOOD/ARBOR HEIGHTS'\n",
      "5   19880000507482           155           155              0  'MOTOR VEHICLE THEFT'                VEH-THEFT-AUTO       WEST      M   M2                       SLU/CASCADE\n",
      "6   19930000465323          2213          2213              0               HOMICIDE     HOMICIDE-PREMEDITATED-GUN      SOUTH      R   R2         'CLAREMONT/RAINIER VISTA'\n",
      "7   19940000264046             0           844            844      'THEFT-ALL OTHER'                     THEFT-OTH  SOUTHWEST      F   F1                      'HIGH POINT'\n",
      "8   19960000543964          1130          1700            570            'CAR PROWL'                THEFT-CARPROWL      SOUTH      O   O1                              SODO\n",
      "10  20000000216737          2330          1055          -1275            'CAR PROWL'                THEFT-CARPROWL       WEST      Q   Q3                       SLU/CASCADE\n",
      "11   2001000024668          2310          2310              0               HOMICIDE     HOMICIDE-PREMEDITATED-GUN       WEST      K   K3             'DOWNTOWN COMMERCIAL'\n",
      "'DOWNTOWN COMMERCIAL'                 48929\n",
      "NORTHGATE                             30807\n",
      "'CAPITOL HILL'                        30725\n",
      "'QUEEN ANNE'                          27385\n",
      "SLU/CASCADE                           23331\n",
      "UNIVERSITY                            20854\n",
      "ROOSEVELT/RAVENNA                     19440\n",
      "'BALLARD SOUTH'                       15599\n",
      "'CHINATOWN/INTERNATIONAL DISTRICT'    15395\n",
      "BELLTOWN                              15360\n",
      "'FIRST HILL'                          13977\n",
      "LAKECITY                              13553\n",
      "'CENTRAL AREA/SQUIRE PARK'            12208\n",
      "GREENWOOD                             11399\n",
      "'BALLARD NORTH'                       11100\n",
      "SANDPOINT                             10645\n",
      "FREMONT                               10237\n",
      "WALLINGFORD                           10003\n",
      "BITTERLAKE                             9991\n",
      "'NORTH BEACON HILL'                    9278\n",
      "SODO                                   8888\n",
      "'PIONEER SQUARE'                       8812\n",
      "'ROXHILL/WESTWOOD/ARBOR HEIGHTS'       8219\n",
      "MAGNOLIA                               7874\n",
      "'ALASKA JUNCTION'                      7084\n",
      "BRIGHTON/DUNLAP                        7065\n",
      "'MOUNT BAKER'                          7022\n",
      "MADRONA/LESCHI                         6565\n",
      "GEORGETOWN                             6001\n",
      "'RAINIER BEACH'                        5878\n",
      "'MID BEACON HILL'                      5863\n",
      "'HIGHLAND PARK'                        5631\n",
      "'RAINIER VIEW'                         5492\n",
      "'NORTH ADMIRAL'                        4950\n",
      "'PHINNEY RIDGE'                        4672\n",
      "MORGAN                                 4470\n",
      "'JUDKINS PARK/NORTH BEACON HILL'       4138\n",
      "'SOUTH PARK'                           4026\n",
      "'MONTLAKE/PORTAGE BAY'                 3718\n",
      "'NORTH DELRIDGE'                       3552\n",
      "'EASTLAKE - WEST'                      3462\n",
      "'HIGH POINT'                           3444\n",
      "'MILLER PARK'                          3431\n",
      "'LAKEWOOD/SEWARD PARK'                 3395\n",
      "'COLUMBIA CITY'                        3382\n",
      "'NEW HOLLY'                            3191\n",
      "'HILLMAN CITY'                         2631\n",
      "'CLAREMONT/RAINIER VISTA'              2504\n",
      "ALKI                                   2484\n",
      "'FAUNTLEROY SW'                        2374\n",
      "'SOUTH BEACON HILL'                    2251\n",
      "'SOUTH DELRIDGE'                       1972\n",
      "'MADISON PARK'                         1789\n",
      "GENESEE                                1551\n",
      "'EASTLAKE - EAST'                       860\n",
      "'PIGEON POINT'                          609\n",
      "'COMMERCIAL DUWAMISH'                   318\n",
      "'COMMERCIAL HARBOR ISLAND'              177\n",
      "Name: Neighborhood, dtype: int64\n"
     ]
    }
   ],
   "source": [
    "Neighborhood=crime_sub[\"Neighborhood\"].value_counts()\n",
    "print(crime_sub.head(10))\n",
    "print(Neighborhood)"
   ]
  },
  {
   "cell_type": "markdown",
   "metadata": {},
   "source": [
    "### Plotting the Neighborhood\n",
    "To better understand the dataset and to illustrate the data it, we plotted the relative share of the top ten Neighborhood"
   ]
  },
  {
   "cell_type": "code",
   "execution_count": 15,
   "metadata": {},
   "outputs": [
    {
     "data": {
      "text/plain": [
       "([<matplotlib.patches.Wedge at 0x23e920cf710>,\n",
       "  <matplotlib.patches.Wedge at 0x23e920dc128>,\n",
       "  <matplotlib.patches.Wedge at 0x23e920dca58>,\n",
       "  <matplotlib.patches.Wedge at 0x23e920e73c8>,\n",
       "  <matplotlib.patches.Wedge at 0x23e920e7cf8>,\n",
       "  <matplotlib.patches.Wedge at 0x23e920f3668>,\n",
       "  <matplotlib.patches.Wedge at 0x23e920f3f98>,\n",
       "  <matplotlib.patches.Wedge at 0x23e920ff908>,\n",
       "  <matplotlib.patches.Wedge at 0x23e9210a278>,\n",
       "  <matplotlib.patches.Wedge at 0x23e9210aba8>,\n",
       "  <matplotlib.patches.Wedge at 0x23e92117518>],\n",
       " [Text(0.5174654758826863, 0.9706850577141409, \"'DOWNTOWN COMMERCIAL'\"),\n",
       "  Text(0.008807755278797248, 1.0999647373652253, 'NORTHGATE'),\n",
       "  Text(-0.3913778255346501, 1.0280191621170147, \"'CAPITOL HILL'\"),\n",
       "  Text(-0.7210688059779894, 0.8306983670656135, \"'QUEEN ANNE'\"),\n",
       "  Text(-0.9380618934977233, 0.5744909781427958, 'SLU/CASCADE'),\n",
       "  Text(-1.0563855952493157, 0.30667486716349757, 'UNIVERSITY'),\n",
       "  Text(-1.0991599480312342, 0.042981491877024984, 'ROOSEVELT/RAVENNA'),\n",
       "  Text(-1.0836517853641165, -0.18894128208828032, \"'BALLARD SOUTH'\"),\n",
       "  Text(-1.0295307271164869, -0.3873841529063858, \"'CHINATOWN/INTERNATIONAL DISTRICT'\"),\n",
       "  Text(-0.9402366810778827, -0.5709246741520705, 'BELLTOWN'),\n",
       "  Text(0.7186465612487547, -0.8327947646361258, 'Other')],\n",
       " [Text(0.2822538959360107, 0.5294645769349859, '9.4%'),\n",
       "  Text(0.004804230152071225, 0.5999807658355774, '5.9%'),\n",
       "  Text(-0.21347881392799095, 0.5607377247910988, '5.9%'),\n",
       "  Text(-0.39331025780617596, 0.45310820021760734, '5.3%'),\n",
       "  Text(-0.5116701237260308, 0.3133587153506158, '4.5%'),\n",
       "  Text(-0.576210324681445, 0.16727720027099865, '4.0%'),\n",
       "  Text(-0.5995417898352186, 0.023444450114740896, '3.7%'),\n",
       "  Text(-0.5910827920167907, -0.10305888113906198, '3.0%'),\n",
       "  Text(-0.5615622147908109, -0.21130044703984677, '3.0%'),\n",
       "  Text(-0.5128563714970269, -0.3114134586284021, '3.0%'),\n",
       "  Text(0.3919890334084116, -0.4542516898015231, '52.3%')])"
      ]
     },
     "execution_count": 15,
     "metadata": {},
     "output_type": "execute_result"
    },
    {
     "data": {
      "text/plain": [
       "(-1.1010236114184264,\n",
       " 1.1046309692247638,\n",
       " -1.1095310969486885,\n",
       " 1.100941108691042)"
      ]
     },
     "execution_count": 15,
     "metadata": {},
     "output_type": "execute_result"
    },
    {
     "data": {
      "text/plain": [
       "Text(0.5, 1.0, 'Neighborhood of Crimes')"
      ]
     },
     "execution_count": 15,
     "metadata": {},
     "output_type": "execute_result"
    },
    {
     "data": {
      "image/png": "[encoded data removed]",
      "text/plain": [
       "<Figure size 432x288 with 1 Axes>"
      ]
     },
     "metadata": {},
     "output_type": "display_data"
    }
   ],
   "source": [
    "# Note: Same method for plotting is used as for Crime Subcategories\n",
    "Neighborhood=pd.DataFrame(crime_sub[\"Neighborhood\"].value_counts())\n",
    "Neighborhood.columns=[\"Amount\"]\n",
    "Neighborhood['Neighborhood'] = Neighborhood.index\n",
    "Neighborhood= Neighborhood[['Neighborhood', \"Amount\"]]\n",
    "Neighborhood.index = range(len(Neighborhood))\n",
    "Other = Neighborhood.iloc[10:]\n",
    "Other = Other[\"Amount\"].sum()\n",
    "Neighborhood=Neighborhood.iloc[0:10]\n",
    "Neighborhood = Neighborhood.append({'Neighborhood':'Other', 'Amount':Other} , ignore_index=True)\n",
    "Neighborhood[\"Percentage\"]= Neighborhood[\"Amount\"]/Neighborhood[\"Amount\"].sum()*100\n",
    "import matplotlib.pyplot as plt\n",
    "color=(\"lavender\", \"steelblue\",\"red\",\"lightcyan\",\"lime\",\"palegreen\",\"yellow\",\n",
    "       \"darkorange\",\"peru\",\"tomato\", \"gray\")\n",
    "fig1, ax1 = plt.subplots()\n",
    "ax1.pie(Neighborhood[\"Percentage\"], labels=Neighborhood[\"Neighborhood\"], autopct='%1.1f%%',\n",
    "        shadow=True, startangle=45, colors=color)\n",
    "ax1.axis('equal')\n",
    "ax1.set_title(\"Neighborhood of Crimes\", fontdict={'fontsize': 15, 'fontweight': 'medium'})\n",
    "plt.show()"
   ]
  },
  {
   "cell_type": "markdown",
   "metadata": {},
   "source": [
    "## Model Building"
   ]
  },
  {
   "cell_type": "markdown",
   "metadata": {},
   "source": [
    "### Load scikit toolkit\n",
    "\n",
    "Classifier implementing the k-nearest neighbors vote"
   ]
  },
  {
   "cell_type": "code",
   "execution_count": 16,
   "metadata": {},
   "outputs": [],
   "source": [
    "from sklearn.neighbors import KNeighborsClassifier # import KNeighborsClassifier module\n",
    "from sklearn import svm # import svm module\n",
    "from sklearn.model_selection import train_test_split # import the train_test_split\n",
    "\n",
    "# Import needed libraries for preprocessing\n",
    "from sklearn import preprocessing\n",
    "from sklearn.preprocessing import LabelEncoder\n",
    "\n",
    "import re"
   ]
  },
  {
   "cell_type": "markdown",
   "metadata": {},
   "source": [
    "## Preparing the dataset by featursizing"
   ]
  },
  {
   "cell_type": "markdown",
   "metadata": {},
   "source": [
    "### Data preprocessing\n",
    "\n",
    "Prepare and transform raw data into a understandable format"
   ]
  },
  {
   "cell_type": "code",
   "execution_count": 17,
   "metadata": {},
   "outputs": [
    {
     "data": {
      "text/plain": [
       "142"
      ]
     },
     "execution_count": 17,
     "metadata": {},
     "output_type": "execute_result"
    }
   ],
   "source": [
    "crime_sub['Primary_Offense_Description'].nunique()"
   ]
  },
  {
   "cell_type": "markdown",
   "metadata": {},
   "source": [
    "142 Primary Offenses are given in the dataset"
   ]
  },
  {
   "cell_type": "code",
   "execution_count": 18,
   "metadata": {},
   "outputs": [
    {
     "name": "stdout",
     "output_type": "stream",
     "text": [
      "0                      BURGLARY-FORCE-RES\n",
      "1                          THEFT-CARPROWL\n",
      "2            HOMICIDE-PREMEDITATED-WEAPON\n",
      "3                          VEH-THEFT-AUTO\n",
      "4               HOMICIDE-PREMEDITATED-GUN\n",
      "5                               THEFT-OTH\n",
      "6                              DUI-LIQUOR\n",
      "7                  ASSLT-AGG-DV-BODYFORCE\n",
      "8                          RAPE-STRONGARM\n",
      "9             'SEXOFF-INDECENT LIBERTIES'\n",
      "10                          ASSLT-AGG-GUN\n",
      "11               ROBBERY-STREET-BODYFORCE\n",
      "12                   ASSLT-AGG-POLICE-GUN\n",
      "13                       ASSLT-AGG-WEAPON\n",
      "14                           SEXOFF-OTHER\n",
      "15                  BURGLARY-FORCE-NONRES\n",
      "16        HOMICIDE-PREMEDITATED-BODYFORCE\n",
      "17                   BURGLARY-NOFORCE-RES\n",
      "18                     VEH-THEFT-MTRCYCLE\n",
      "19                         THEFT-PKPOCKET\n",
      "20                          THEFT-BICYCLE\n",
      "21                    NARC-POSSESS-MARIJU\n",
      "22                           PROSTITUTION\n",
      "23                          ARSON-VEHICLE\n",
      "24              ASSLT-AGG-CHILD-BODYFORCE\n",
      "25         'PORNOGRAPHY-OBSCENE MATERIAL'\n",
      "26                     ROBBERY-STREET-GUN\n",
      "27                          SEXOFF-PEEPER\n",
      "28                 ROBBERY-BANK-BODYFORCE\n",
      "29             ROBBERY-BUSINESS-BODYFORCE\n",
      "30                ROBBERY-BUSINESS-WEAPON\n",
      "31                  'THEFT-LICENSE PLATE'\n",
      "32                  'SEXOFF-OTHER OBJECT'\n",
      "33                            CHILD-OTHER\n",
      "34                   ROBBERY-BUSINESS-GUN\n",
      "35                    ASSLT-AGG-BODYFORCE\n",
      "36                   NARC-POSSESS-COCAINE\n",
      "37             ASSLT-AGG-POLICE-BODYFORCE\n",
      "38             'SEXOFF-INDECENT EXPOSURE'\n",
      "39                   CHILD-ABUSED-NOFORCE\n",
      "40                     NARC-POSSESS-OTHER\n",
      "41                        VEH-THEFT-TRUCK\n",
      "42                         THEFT-SHOPLIFT\n",
      "43                    ASSLT-AGG-DV-WEAPON\n",
      "44                      WEAPON-POSSESSION\n",
      "45                          SEXOFF-SODOMY\n",
      "46                         THEFT-BUILDING\n",
      "47                          THEFT-AUTOACC\n",
      "48                               TRESPASS\n",
      "49                         THEFT-PRSNATCH\n",
      "50                BURGLARY-NOFORCE-NONRES\n",
      "51                           THEFT-COINOP\n",
      "52            NARC-EQUIPMENT/PARAPHENALIA\n",
      "53                      NARC-SELL-COCAINE\n",
      "54                      NARC-POSSESS-METH\n",
      "55                 'LIQUOR LAW VIOLATION'\n",
      "56     'HARBOR - BOATING UNDER INFLUENCE'\n",
      "57                       WEAPON-DISCHARGE\n",
      "58                    NARC-POSSESS-HEROIN\n",
      "59            PROSTITUTION-ASSIST-PROMOTE\n",
      "60                     CHILD-ENDANGERMENT\n",
      "61                      VEH-THEFT-TRAILER\n",
      "62                            ARSON-OTHER\n",
      "63                         ARSON-BUSINESS\n",
      "64                  'WEAPON-UNLAWFUL USE'\n",
      "65                    NARC-PRODUCE-MARIJU\n",
      "66            ROBBERY-RESIDENCE-BODYFORCE\n",
      "67                  ROBBERY-STREET-WEAPON\n",
      "68                       NARC-SELL-MARIJU\n",
      "69               ROBBERY-RESIDENCE-WEAPON\n",
      "70                   'DISORDERLY CONDUCT'\n",
      "71               'PROSTITUTION LOITERING'\n",
      "72          'NARC-DRUG TRAFFIC LOITERING'\n",
      "73                  NARC-SELL-AMPHETAMINE\n",
      "74                  'SEXOFF-LEWD CONDUCT'\n",
      "75                         NARC-SELL-METH\n",
      "76              NARC-FORGERY-PRESCRIPTION\n",
      "77                       WEAPON-CONCEALED\n",
      "78                          CHILD-ABANDON\n",
      "79                  ROBBERY-RESIDENCE-GUN\n",
      "80               NARC-POSSESS-AMPHETAMINE\n",
      "81                       NARC-SELL-HEROIN\n",
      "82                              DUI-DRUGS\n",
      "83                     ROBBERY-BANK-OTHER\n",
      "84               NARC-POSSESS-PILL/TABLET\n",
      "85                          CHILD-NEGLECT\n",
      "86              NARC-POSSESS-HALLUCINOGEN\n",
      "87                       ASSLT-AGG-DV-GUN\n",
      "88                             RAPE-OTHER\n",
      "89                NARC-FRAUD-PRESCRIPTION\n",
      "90                        NARC-SELL-OTHER\n",
      "91             'VEH-THEFT-RECREATION VEH'\n",
      "92           NARC-DISTRIBUTE-HALLUCINOGEN\n",
      "93                 NARC-MANUFACTURE-OTHER\n",
      "94                       ROBBERY-BANK-GUN\n",
      "95                       VEH-THEFT-OTHVEH\n",
      "96                   'CHILD-HARBOR MINOR'\n",
      "97                        ARSON-RESIDENCE\n",
      "98                     VEH-THEFT-HVYEQUIP\n",
      "99                             THEFT-BOAT\n",
      "100                        GAMBLE-BETTING\n",
      "101            'PROSTITUTION PATRONIZING'\n",
      "102               NARC-POSSESS-BARBITUATE\n",
      "103                             LOITERING\n",
      "104                           RAPE-WEAPON\n",
      "105            'INTERFERE WITH REPORT-DV'\n",
      "106             NARC-POSSESS-PRESCRIPTION\n",
      "107                              RAPE-GUN\n",
      "108                 NARC-SELL-PILL/TABLET\n",
      "109               ASSLT-AGG-POLICE-WEAPON\n",
      "110                    NARC-POSSESS-OPIUM\n",
      "111                        GAMBLE-OPERATE\n",
      "112                 HOMICIDE-NEG-MANS-GUN\n",
      "113                   NARC-SMUGGLE-MARIJU\n",
      "114                  NARC-SMUGGLE-COCAINE\n",
      "115                NARC-POSSESS-SYNTHETIC\n",
      "116                   NARC-SELL-SYNTHETIC\n",
      "117                NARC-SELL-PRESCRIPTION\n",
      "118                NARC-SELL-HALLUCINOGEN\n",
      "119                   ROBBERY-BANK-WEAPON\n",
      "120             HOMICIDE-NEG-MANS-VEHICLE\n",
      "121                 HUMAN-TRAFFICKING-SEX\n",
      "122                   NARC-SMUGGLE-HEROIN\n",
      "123          'SEX ABUSE MINOR-COMMERCIAL'\n",
      "124      'BURGLARY-SECURE PARKING-NONRES'\n",
      "125         'BURGLARY-SECURE PARKING-RES'\n",
      "126                       NARC-SELL-OPIUM\n",
      "127                     NARC-SMUGGLE-METH\n",
      "128                 NARC-MANUFACTURE-METH\n",
      "129                    'THEFT-AUTO PARTS'\n",
      "130     'ADULT-VULNERABLE-PHYSICAL ABUSE'\n",
      "131                            THEFT-MAIL\n",
      "132                          ENDANGERMENT\n",
      "133              ADULT-VULNERABLE-NEGLECT\n",
      "134            ADULT-VULNERABLE-FINANCIAL\n",
      "135                         VEH-THEFT-BUS\n",
      "136           HOMICIDE-NEG-MANS-BODYFORCE\n",
      "137       'SEX ABUSE MINOR-PROMO COMMERC'\n",
      "138                    NARC-SMUGGLE-OTHER\n",
      "139                  NARC-SELL-BARBITUATE\n",
      "140         NARC-MANUFACTURE-HALLUCINOGEN\n",
      "141              HOMICIDE-NEG-MANS-WEAPON\n",
      "Name: 0, dtype: object\n"
     ]
    }
   ],
   "source": [
    "# display all primary offenses one by one\n",
    "pri_off = pd.DataFrame(crime_sub[(\"Primary_Offense_Description\")].unique())\n",
    "print(pri_off[0])"
   ]
  },
  {
   "cell_type": "markdown",
   "metadata": {},
   "source": [
    "#### To clean the dataset, we will copy it into crime_sub_clean and combine some sub-categories of the target variable"
   ]
  },
  {
   "cell_type": "code",
   "execution_count": 19,
   "metadata": {},
   "outputs": [],
   "source": [
    "crime_sub_clean = crime_sub\n",
    "crime_sub_clean['New_Pri_Off'] = crime_sub['Primary_Offense_Description']"
   ]
  },
  {
   "cell_type": "code",
   "execution_count": 20,
   "metadata": {},
   "outputs": [
    {
     "data": {
      "text/plain": [
       "New_Pri_Off\n",
       "'ADULT-VULNERABLE-PHYSICAL ABUSE'         92\n",
       "'BURGLARY-SECURE PARKING-NONRES'        1163\n",
       "'BURGLARY-SECURE PARKING-RES'           8845\n",
       "'CHILD-HARBOR MINOR'                      15\n",
       "'DISORDERLY CONDUCT'                     282\n",
       "'HARBOR - BOATING UNDER INFLUENCE'        95\n",
       "'INTERFERE WITH REPORT-DV'               123\n",
       "'LIQUOR LAW VIOLATION'                  1635\n",
       "'NARC-DRUG TRAFFIC LOITERING'            417\n",
       "'PORNOGRAPHY-OBSCENE MATERIAL'           175\n",
       "'PROSTITUTION LOITERING'                 319\n",
       "'PROSTITUTION PATRONIZING'              1235\n",
       "'SEX ABUSE MINOR-COMMERCIAL'              56\n",
       "'SEX ABUSE MINOR-PROMO COMMERC'           13\n",
       "'SEXOFF-INDECENT EXPOSURE'               826\n",
       "'SEXOFF-INDECENT LIBERTIES'             1933\n",
       "'SEXOFF-LEWD CONDUCT'                    732\n",
       "'SEXOFF-OTHER OBJECT'                     93\n",
       "'THEFT-AUTO PARTS'                      1008\n",
       "'THEFT-LICENSE PLATE'                   7524\n",
       "'VEH-THEFT-RECREATION VEH'                42\n",
       "'WEAPON-UNLAWFUL USE'                   1048\n",
       "ADULT-VULNERABLE-FINANCIAL               299\n",
       "ADULT-VULNERABLE-NEGLECT                 176\n",
       "ARSON-BUSINESS                           149\n",
       "ARSON-OTHER                              453\n",
       "ARSON-RESIDENCE                          216\n",
       "ARSON-VEHICLE                            249\n",
       "ASSLT-AGG-BODYFORCE                     3614\n",
       "ASSLT-AGG-CHILD-BODYFORCE                141\n",
       "ASSLT-AGG-DV-BODYFORCE                  2735\n",
       "ASSLT-AGG-DV-GUN                         210\n",
       "ASSLT-AGG-DV-WEAPON                     3919\n",
       "ASSLT-AGG-GUN                           1662\n",
       "ASSLT-AGG-POLICE-BODYFORCE                89\n",
       "ASSLT-AGG-POLICE-GUN                      27\n",
       "ASSLT-AGG-POLICE-WEAPON                  290\n",
       "ASSLT-AGG-WEAPON                        9659\n",
       "BURGLARY-FORCE-NONRES                  15135\n",
       "BURGLARY-FORCE-RES                     27946\n",
       "BURGLARY-NOFORCE-NONRES                 8364\n",
       "BURGLARY-NOFORCE-RES                   18826\n",
       "CHILD-ABANDON                            330\n",
       "CHILD-ABUSED-NOFORCE                     157\n",
       "CHILD-ENDANGERMENT                       543\n",
       "CHILD-NEGLECT                            332\n",
       "CHILD-OTHER                             4493\n",
       "DUI-DRUGS                               1234\n",
       "DUI-LIQUOR                             11387\n",
       "ENDANGERMENT                             140\n",
       "GAMBLE-BETTING                            13\n",
       "GAMBLE-OPERATE                             4\n",
       "HOMICIDE-NEG-MANS-BODYFORCE                2\n",
       "HOMICIDE-NEG-MANS-GUN                      1\n",
       "HOMICIDE-NEG-MANS-VEHICLE                  2\n",
       "HOMICIDE-NEG-MANS-WEAPON                   1\n",
       "HOMICIDE-PREMEDITATED-BODYFORCE           36\n",
       "HOMICIDE-PREMEDITATED-GUN                156\n",
       "HOMICIDE-PREMEDITATED-WEAPON              77\n",
       "HUMAN-TRAFFICKING-SEX                      9\n",
       "LOITERING                                 90\n",
       "NARC-DISTRIBUTE-HALLUCINOGEN              11\n",
       "NARC-EQUIPMENT/PARAPHENALIA             1787\n",
       "NARC-FORGERY-PRESCRIPTION                298\n",
       "NARC-FRAUD-PRESCRIPTION                  113\n",
       "NARC-MANUFACTURE-HALLUCINOGEN              1\n",
       "NARC-MANUFACTURE-METH                      5\n",
       "NARC-MANUFACTURE-OTHER                    41\n",
       "NARC-POSSESS-AMPHETAMINE                 392\n",
       "NARC-POSSESS-BARBITUATE                    5\n",
       "NARC-POSSESS-COCAINE                    3303\n",
       "NARC-POSSESS-HALLUCINOGEN                 68\n",
       "NARC-POSSESS-HEROIN                     1727\n",
       "NARC-POSSESS-MARIJU                     1815\n",
       "NARC-POSSESS-METH                       1550\n",
       "NARC-POSSESS-OPIUM                        11\n",
       "NARC-POSSESS-OTHER                       217\n",
       "NARC-POSSESS-PILL/TABLET                 348\n",
       "NARC-POSSESS-PRESCRIPTION                104\n",
       "NARC-POSSESS-SYNTHETIC                    13\n",
       "NARC-PRODUCE-MARIJU                      100\n",
       "NARC-SELL-AMPHETAMINE                    134\n",
       "NARC-SELL-BARBITUATE                       1\n",
       "NARC-SELL-COCAINE                       2789\n",
       "NARC-SELL-HALLUCINOGEN                    18\n",
       "NARC-SELL-HEROIN                         583\n",
       "NARC-SELL-MARIJU                         488\n",
       "NARC-SELL-METH                           302\n",
       "NARC-SELL-OPIUM                            5\n",
       "NARC-SELL-OTHER                           70\n",
       "NARC-SELL-PILL/TABLET                    139\n",
       "NARC-SELL-PRESCRIPTION                    22\n",
       "NARC-SELL-SYNTHETIC                        9\n",
       "NARC-SMUGGLE-COCAINE                       7\n",
       "NARC-SMUGGLE-HEROIN                        1\n",
       "NARC-SMUGGLE-MARIJU                       20\n",
       "NARC-SMUGGLE-METH                          8\n",
       "NARC-SMUGGLE-OTHER                         2\n",
       "PROSTITUTION                            1739\n",
       "PROSTITUTION-ASSIST-PROMOTE              123\n",
       "RAPE-GUN                                  32\n",
       "RAPE-OTHER                                42\n",
       "RAPE-STRONGARM                          1257\n",
       "RAPE-WEAPON                               90\n",
       "ROBBERY-BANK-BODYFORCE                   136\n",
       "ROBBERY-BANK-GUN                         118\n",
       "ROBBERY-BANK-OTHER                        53\n",
       "ROBBERY-BANK-WEAPON                       40\n",
       "ROBBERY-BUSINESS-BODYFORCE              2653\n",
       "ROBBERY-BUSINESS-GUN                     644\n",
       "ROBBERY-BUSINESS-WEAPON                 1011\n",
       "ROBBERY-RESIDENCE-BODYFORCE              547\n",
       "ROBBERY-RESIDENCE-GUN                    302\n",
       "ROBBERY-RESIDENCE-WEAPON                 209\n",
       "ROBBERY-STREET-BODYFORCE                8021\n",
       "ROBBERY-STREET-GUN                      1911\n",
       "ROBBERY-STREET-WEAPON                   1815\n",
       "SEXOFF-OTHER                            2384\n",
       "SEXOFF-PEEPER                            143\n",
       "SEXOFF-SODOMY                            316\n",
       "THEFT-AUTOACC                           8334\n",
       "THEFT-BICYCLE                          11068\n",
       "THEFT-BOAT                               193\n",
       "THEFT-BUILDING                         21394\n",
       "THEFT-CARPROWL                        130727\n",
       "THEFT-COINOP                             281\n",
       "THEFT-MAIL                              3575\n",
       "THEFT-OTH                              46897\n",
       "THEFT-PKPOCKET                          2495\n",
       "THEFT-PRSNATCH                           555\n",
       "THEFT-SHOPLIFT                         48607\n",
       "TRESPASS                               17661\n",
       "VEH-THEFT-AUTO                         37763\n",
       "VEH-THEFT-BUS                              2\n",
       "VEH-THEFT-HVYEQUIP                        26\n",
       "VEH-THEFT-MTRCYCLE                      2051\n",
       "VEH-THEFT-OTHVEH                          52\n",
       "VEH-THEFT-TRAILER                        419\n",
       "VEH-THEFT-TRUCK                         3087\n",
       "WEAPON-CONCEALED                         308\n",
       "WEAPON-DISCHARGE                         968\n",
       "WEAPON-POSSESSION                       2568\n",
       "Name: New_Pri_Off, dtype: int64"
      ]
     },
     "execution_count": 20,
     "metadata": {},
     "output_type": "execute_result"
    }
   ],
   "source": [
    "# Calculate the sum for each offense and display it\n",
    "crime_sub_clean.groupby(['New_Pri_Off'])['New_Pri_Off'].count()"
   ]
  },
  {
   "cell_type": "markdown",
   "metadata": {},
   "source": [
    "#### Combining sub-categories into three sub-categories (THEFT, DRUGS_AND_GUNS, OTHERS)"
   ]
  },
  {
   "cell_type": "code",
   "execution_count": 21,
   "metadata": {},
   "outputs": [],
   "source": [
    "crime_sub_clean = crime_sub_clean.replace({'New_Pri_Off':r'(.*BURGLARY.+)'}, {'New_Pri_Off':'THEFT'}, regex=True)\n",
    "crime_sub_clean = crime_sub_clean.replace({'New_Pri_Off':r'.*THEFT.+'}, {'New_Pri_Off':'THEFT'}, regex=True)\n",
    "crime_sub_clean = crime_sub_clean.replace({'New_Pri_Off':r'.*ROBBERY.+'}, {'New_Pri_Off':'THEFT'}, regex=True)\n",
    "crime_sub_clean = crime_sub_clean.replace({'New_Pri_Off':r'.*NARC.+'}, {'New_Pri_Off':'DRUGS_AND_GUNS'}, regex=True)\n",
    "crime_sub_clean = crime_sub_clean.replace({'New_Pri_Off':r'.*DRUG.+'}, {'New_Pri_Off':'DRUGS_AND_GUNS'}, regex=True)\n",
    "crime_sub_clean = crime_sub_clean.replace({'New_Pri_Off':r'.*UNDER\\s+INFLUENCE.+'}, {'New_Pri_Off':'DRUGS_AND_GUNS'}, regex=True)\n",
    "crime_sub_clean = crime_sub_clean.replace({'New_Pri_Off':r'.*WEAPON.+'}, {'New_Pri_Off':'DRUGS_AND_GUNS'}, regex=True)"
   ]
  },
  {
   "cell_type": "markdown",
   "metadata": {},
   "source": [
    "#### Converting all other sub_categories to others"
   ]
  },
  {
   "cell_type": "code",
   "execution_count": 22,
   "metadata": {},
   "outputs": [
    {
     "name": "stderr",
     "output_type": "stream",
     "text": [
      "C:\\Users\\erenu\\Anaconda3\\lib\\site-packages\\ipykernel_launcher.py:1: SettingWithCopyWarning: \n",
      "A value is trying to be set on a copy of a slice from a DataFrame\n",
      "\n",
      "See the caveats in the documentation: http://pandas.pydata.org/pandas-docs/stable/indexing.html#indexing-view-versus-copy\n",
      "  \"\"\"Entry point for launching an IPython kernel.\n"
     ]
    }
   ],
   "source": [
    "crime_sub_clean['New_Pri_Off'][~crime_sub_clean['New_Pri_Off'].isin(['THEFT', 'DRUGS_AND_GUNS'])] = crime_sub_clean['New_Pri_Off'][~crime_sub_clean['New_Pri_Off'].isin(['THEFT', 'DRUGS_AND_GUNS'])].replace(r'\\'*\\w.*','OTHERS', regex=True)"
   ]
  },
  {
   "cell_type": "code",
   "execution_count": 23,
   "metadata": {},
   "outputs": [
    {
     "data": {
      "text/plain": [
       "New_Pri_Off\n",
       "DRUGS_AND_GUNS     23145\n",
       "OTHERS             72977\n",
       "THEFT             423839\n",
       "Name: New_Pri_Off, dtype: int64"
      ]
     },
     "execution_count": 23,
     "metadata": {},
     "output_type": "execute_result"
    }
   ],
   "source": [
    "crime_sub_clean.groupby(['New_Pri_Off'])['New_Pri_Off'].count()"
   ]
  },
  {
   "cell_type": "markdown",
   "metadata": {},
   "source": [
    "We can see that there are only **3 sub-categories with Drugs and Guns, Theft and Others**  now on that will be predicted"
   ]
  },
  {
   "cell_type": "markdown",
   "metadata": {},
   "source": [
    "### Label Encoding - Encoding data columns\n",
    "\n",
    "For our model building it’s important to use only float or integer data types. Using “print(crime.info())” we can observe, that “Occurred_Time” is a float variable. Therefore, we must encode our object data to integer datatypes.\n",
    "\n",
    "Label Encoding refers to converting the labels into numeric form so as to convert it into the machine-readable form. This is a better way on how those non numeric columns must be operated"
   ]
  },
  {
   "cell_type": "code",
   "execution_count": 24,
   "metadata": {},
   "outputs": [
    {
     "name": "stdout",
     "output_type": "stream",
     "text": [
      "     Report_Number Occurred_Time Reported_Time  Response_Time  Crime_Subcategory   Primary_Offense_Description  Precinct  Sector  Beat  Neighborhood  New_Pri_Off\n",
      "0    1975000079415           900          1500            600                 13            BURGLARY-FORCE-RES         2      13    41            19            2\n",
      "2    1979000049118          1600          1430           -170                  4                THEFT-CARPROWL         0       5    16             4            2\n",
      "3   19810000305573          2029          2030              1                 16  HOMICIDE-PREMEDITATED-WEAPON         2      14    43            42            1\n",
      "4    1981000076456          2000           435          -1565                 13            BURGLARY-FORCE-RES         3      16    50            35            2\n",
      "5   19880000507482           155           155              0                  8                VEH-THEFT-AUTO         4       9    28            54            2\n",
      "6   19930000465323          2213          2213              0                 16     HOMICIDE-PREMEDITATED-GUN         2      13    40             6            1\n",
      "7   19940000264046             0           844            844                 10                     THEFT-OTH         3       4    12            15            2\n",
      "8   19960000543964          1130          1700            570                  4                THEFT-CARPROWL         2      11    33            55            2\n",
      "10  20000000216737          2330          1055          -1275                  4                THEFT-CARPROWL         4      12    38            54            2\n",
      "11   2001000024668          2310          2310              0                 16     HOMICIDE-PREMEDITATED-GUN         4       7    23            10            1\n",
      "<class 'pandas.core.frame.DataFrame'>\n",
      "Int64Index: 519961 entries, 0 to 523589\n",
      "Data columns (total 11 columns):\n",
      "Report_Number                  519961 non-null int64\n",
      "Occurred_Time                  519961 non-null object\n",
      "Reported_Time                  519961 non-null object\n",
      "Response_Time                  519961 non-null int64\n",
      "Crime_Subcategory              519961 non-null int32\n",
      "Primary_Offense_Description    519961 non-null object\n",
      "Precinct                       519961 non-null int32\n",
      "Sector                         519961 non-null int32\n",
      "Beat                           519961 non-null int32\n",
      "Neighborhood                   519961 non-null int32\n",
      "New_Pri_Off                    519961 non-null int32\n",
      "dtypes: int32(6), int64(2), object(3)\n",
      "memory usage: 55.7+ MB\n",
      "None\n"
     ]
    }
   ],
   "source": [
    "# convert categorical text data into model-understandable numerical data using Label Encoding class\n",
    "le = preprocessing.LabelEncoder() # creating LabelEncoder\n",
    "lb = LabelEncoder() # normalize labels\n",
    "crime_sub_clean[(\"Crime_Subcategory\")] = lb.fit_transform(crime_sub_clean[(\"Crime_Subcategory\")])\n",
    "crime_sub_clean[(\"New_Pri_Off\")] = lb.fit_transform(crime_sub_clean[(\"New_Pri_Off\")])\n",
    "crime_sub_clean[(\"Precinct\")] = lb.fit_transform(crime_sub_clean[(\"Precinct\")])\n",
    "crime_sub_clean[(\"Sector\")] = lb.fit_transform(crime_sub_clean[(\"Sector\")])\n",
    "crime_sub_clean[(\"Beat\")] = lb.fit_transform(crime_sub_clean[(\"Beat\")])\n",
    "crime_sub_clean[(\"Neighborhood\")] = lb.fit_transform(crime_sub_clean[(\"Neighborhood\")])\n",
    "# transform non-numerical labels to numerical labels for the the above columns; or Converting string labels into number\n",
    "print(crime_sub_clean.head(10))\n",
    "print(crime_sub_clean.info())"
   ]
  },
  {
   "cell_type": "code",
   "execution_count": 25,
   "metadata": {},
   "outputs": [
    {
     "name": "stdout",
     "output_type": "stream",
     "text": [
      "       Occurred_Time  Crime_Subcategory  Precinct  Sector  Beat  Neighborhood  New_Pri_Off\n",
      "0                900                 13         2      13    41            19            2\n",
      "2               1600                  4         0       5    16             4            2\n",
      "3               2029                 16         2      14    43            42            1\n",
      "4               2000                 13         3      16    50            35            2\n",
      "5                155                  8         4       9    28            54            2\n",
      "6               2213                 16         2      13    40             6            1\n",
      "7                  0                 10         3       4    12            15            2\n",
      "8               1130                  4         2      11    33            55            2\n",
      "10              2330                  4         4      12    38            54            2\n",
      "11              2310                 16         4       7    23            10            1\n",
      "12              1307                 14         0       5    16             4            1\n",
      "13              1520                  4         0       5    15            14            2\n",
      "14               253                 16         0       5    16             4            1\n",
      "15              2345                 13         0       5    16            18            2\n",
      "16              1945                  1         3      16    48            26            1\n",
      "17              2130                 21         0       1     4            22            1\n",
      "18              1100                  4         4       9    27            10            2\n",
      "20              1800                  4         4       2     8            54            2\n",
      "21              2144                  9         2      13    41            17            1\n",
      "22               900                  9         3      16    50            50            1\n",
      "23                 0                  0         3       4    14            38            1\n",
      "24               415                 13         0       1     4            23            2\n",
      "25                 0                  9         0       3     9             3            1\n",
      "26              1700                 24         3       4    13            35            2\n",
      "27               947                  0         1      10    32            51            1\n",
      "28               130                 14         1       8    26            47            1\n",
      "29                19                 16         2      14    42            25            1\n",
      "30              1904                  0         0       3    11             3            1\n",
      "31               200                  9         2      14    44            33            1\n",
      "32                 0                  9         4      12    38            32            1\n",
      "33              1415                 13         2      14    44            34            2\n",
      "34              2245                 21         2      13    41            17            1\n",
      "35              2345                 12         2      13    40             6            2\n",
      "36              1536                 21         1       8    24            51            1\n",
      "37              1603                 16         4       9    27            40            1\n",
      "38              1730                 21         4       7    23            10            1\n",
      "39              1430                 16         4       9    29            10            1\n",
      "40              2235                  0         0       3    10             3            1\n",
      "41              1440                 13         1       6    20            52            2\n",
      "42              2222                 13         2      14    44            34            2\n",
      "43              1235                  9         2      11    33            55            1\n",
      "44              1900                  8         3      16    49             0            2\n",
      "45                 0                  9         2      13    41            17            1\n",
      "46              1330                  9         0       3    10             3            1\n",
      "47              2200                 10         4       2     7            32            2\n",
      "48              1254                 25         2      13    41            17            2\n",
      "49               330                 21         3       4    12            15            1\n",
      "50               137                  4         1       6    19            46            2\n",
      "51              1030                 18         4       7    22            31            0\n",
      "52              1140                  9         1       6    18            46            1\n",
      "53              1250                 24         2      13    39            27            2\n",
      "54              1047                 20         1      10    32            51            1\n",
      "55               951                 13         4       2     6            40            2\n",
      "56                 0                 11         3       4    13            35            1\n",
      "57                 0                 11         3       4    13            35            1\n",
      "58              1030                 21         3      16    48            26            1\n",
      "59               600                  0         2      11    35            45            1\n",
      "61              1840                 21         0       3     9             3            1\n",
      "62              2100                 25         0       1     5             4            2\n",
      "63                 0                  9         1      10    32            51            1\n",
      "64               730                  0         3       4    13            37            1\n",
      "65              1100                  0         3       4    14            16            1\n",
      "66                 0                  1         2      14    43            42            1\n",
      "67                 0                 19         0       3    10             3            1\n",
      "68              2100                 21         0       3    11            14            1\n",
      "69              1616                 24         4      12    38            32            2\n",
      "70              2334                  9         1       8    24            47            1\n",
      "71              2205                  1         2      13    39            27            1\n",
      "72                 0                  9         4       7    21            10            1\n",
      "73                 0                  9         3      16    49            50            1\n",
      "74              1705                 22         1       8    25            51            2\n",
      "75               700                  9         1      10    31            41            1\n",
      "76              2321                  0         2      14    43            42            1\n",
      "77              1945                 22         2      13    40            24            2\n",
      "78                 0                  9         0       3     9             3            1\n",
      "79              2200                  9         0       1     5             4            1\n",
      "80                 0                  0         4       9    29            10            1\n",
      "81               209                  0         4       7    22            31            1\n",
      "82               930                  9         4      12    38            32            1\n",
      "83              2320                  9         0       5    17            48            1\n",
      "84               214                 24         0       3     9             3            2\n",
      "85               340                 21         4       2     7            54            1\n",
      "87                 0                  9         2      13    41             7            1\n",
      "88                 0                 22         0       3    11             3            2\n",
      "89              2305                  0         3       4    12            28            1\n",
      "91              2200                  8         1      15    45            52            2\n",
      "92                 0                  4         1       8    25            51            2\n",
      "93              1850                  8         0       1     4             4            2\n",
      "95               100                 21         4       9    27            10            1\n",
      "96                 0                 21         0       5    17            18            1\n",
      "97              1246                  9         0       3    11            14            1\n",
      "98               300                 21         3       4    13            35            1\n",
      "99              2100                 21         4      12    38            32            1\n",
      "100             1944                 22         0       5    15            14            2\n",
      "101             1200                  8         1       0     1            43            2\n",
      "102                0                  6         2      14    42            21            1\n",
      "104              410                 24         4       9    29            10            2\n",
      "105                0                  6         3       4    13            35            1\n",
      "106             2258                 22         1       6    19             1            2\n",
      "107             1137                 14         4      12    37            32            1\n",
      "108                0                  0         0       3     9             3            1\n",
      "109             2228                 22         1       0     0             2            2\n",
      "110              115                 18         1       6    18            46            0\n",
      "111              320                 22         1       0     1            29            2\n",
      "112                0                  9         3       4    14            16            1\n",
      "113             1921                  9         0       3    11            14            1\n",
      "115             2019                  9         3       4    14            38            1\n",
      "116             2200                  8         1      15    47            53            2\n",
      "117                0                 21         3      16    48            28            1\n",
      "118             1000                  0         0       1     5            48            1\n",
      "119                0                 21         1       0     1             2            1\n",
      "120              254                  1         3       4    12            28            1\n",
      "121             2323                  1         1       6    19            29            1\n",
      "123             2250                 10         1      10    31            51            2\n",
      "124             1209                 10         2      11    33            55            2\n",
      "125             1730                 21         2      14    43            42            1\n",
      "126             1600                  6         4      12    36            49            1\n",
      "127             1600                  6         4      12    36            49            1\n",
      "128             2312                  9         2      14    43            42            1\n",
      "129              300                  6         1      10    32            51            1\n",
      "130                0                  9         0       3    10            14            1\n",
      "131              840                  6         4       7    21            10            1\n",
      "132             1232                 19         4       7    21            10            1\n",
      "133             1313                 18         1      15    46            56            0\n",
      "134             1431                  8         4       7    23             5            2\n",
      "135             1448                 27         3       4    13            35            2\n",
      "136              230                  1         3      16    50            50            1\n",
      "137             1123                  1         0       5    16             4            1\n",
      "138             1505                  1         3      16    50            35            1\n",
      "139             1800                 25         1       8    26            47            2\n",
      "140              200                  0         1       8    24            47            1\n",
      "141              804                  8         0       1     4             4            2\n",
      "143             1002                 21         2      13    39            21            1\n",
      "144             2324                 29         2      14    44            34            0\n",
      "145                0                 21         3       4    14            16            1\n",
      "146             1330                 13         2      14    42            21            2\n",
      "147             2000                 21         0       5    16             4            1\n",
      "149             1400                 20         4       7    21            10            1\n",
      "150                0                  9         1      10    32            51            1\n",
      "151             1000                 21         0       5    16             4            1\n",
      "152              945                 24         4       2     7            54            2\n",
      "153                0                  6         1       8    24            47            1\n",
      "154             2200                  0         1      15    46            56            1\n",
      "155             1835                 25         4       9    28            10            2\n",
      "156              850                  4         0       3    10            14            2\n",
      "157              300                 21         4      12    38            54            1\n",
      "158             1400                 13         1      10    30            41            2\n",
      "160             2050                 27         4       9    28            10            2\n",
      "161                0                 10         0       3    10             3            2\n",
      "162             1600                 24         2      13    40            24            2\n",
      "163             2056                 22         1      15    45            52            2\n",
      "164              200                 26         4       9    29            10            2\n",
      "165             1930                 10         1       8    25            51            2\n",
      "166             1520                 27         3       4    13            35            2\n",
      "167              100                  9         1      10    30            41            1\n",
      "168                0                 24         2      14    43            42            2\n",
      "169              859                 19         4       7    21            10            1\n",
      "170             1015                 22         2      14    44            33            2\n",
      "171             1140                  1         3       4    13            37            1\n",
      "172             1800                  6         0       1     4             4            1\n",
      "173             1500                 24         2      14    42            21            2\n",
      "174             1030                 26         4       2     6            54            2\n",
      "175             2100                 10         0       3     9             3            2\n",
      "176             1300                 13         2      14    43            42            2\n",
      "177             1845                 22         1       0     2            57            2\n",
      "178              840                 27         2      13    39            27            2\n",
      "179             2120                 27         4       9    28            10            2\n",
      "180             1626                 27         4       9    28            10            2\n",
      "181               19                 13         3       4    12            28            2\n",
      "182              643                 12         4      12    38            32            2\n",
      "183             1915                 16         0       1     3             4            1\n",
      "184             1332                  9         0       3    11            14            1\n",
      "185                0                 10         1      10    32            46            2\n",
      "186             1300                  8         4       2     8            12            2\n",
      "187              320                 13         2      14    42            36            2\n",
      "188             2359                 21         0       3     9             3            1\n",
      "189                0                  1         4       2     7            54            1\n",
      "190              935                 13         2      14    42            21            2\n",
      "192             1600                 10         4      12    38            54            2\n",
      "193             1000                  8         3      16    48            39            2\n",
      "194              800                 13         0       1     3             3            2\n",
      "195             2322                  4         0       1     3            23            2\n",
      "196             2030                 24         0       5    17            48            2\n",
      "197             2339                  1         2      14    43            42            1\n",
      "198               41                 28         4       9    27            10            1\n",
      "199             1915                 10         1      10    31            41            2\n",
      "200             1800                 10         0       5    17            48            2\n",
      "201                0                 26         0       3    11            14            2\n",
      "202              200                 13         0       5    17            48            2\n",
      "203              205                 14         4      12    36            49            1\n",
      "204             1430                 12         2      13    41            17            2\n",
      "205                0                  4         4       7    22            31            2\n",
      "206              245                 18         4       7    23             5            0\n",
      "207              247                 28         0       5    16             4            1\n",
      "208              337                 12         2      14    42            21            2\n",
      "209             1810                  4         2      13    40            24            2\n",
      "210             1800                  4         4       2     7            32            2\n",
      "211             2115                  8         4       7    23             5            2\n",
      "212             1914                 24         1       6    20            52            2\n",
      "213             1655                  4         4      12    37            32            2\n",
      "214             2315                 12         0       3    10             3            2\n",
      "215             2215                 13         2      13    40            24            2\n",
      "216             2100                  4         1       0     1            43            2\n",
      "217             1900                  4         2      11    35            45            2\n",
      "218             2000                  4         0       5    16             4            2\n",
      "219             1400                 12         2      11    35            45            2\n",
      "220             1400                 12         4       2     8            12            2\n",
      "221             1500                  4         4       7    23             5            2\n",
      "222              300                  4         1       6    19            29            2\n",
      "223             1945                  4         1       6    20            52            2\n",
      "224             1700                  4         3       4    14            38            2\n",
      "225             2300                  4         2      13    39            27            2\n",
      "226             1830                 12         1       0     0             2            2\n",
      "227             1515                  4         2      14    44            34            2\n",
      "228              644                 10         0       5    16             4            2\n",
      "229              800                 13         2      14    43            42            2\n",
      "230             1800                  4         1      15    47            53            2\n",
      "231              850                 27         1      15    45            52            2\n",
      "232               30                 13         2      13    41            17            2\n",
      "233             1830                  4         3       4    14            38            2\n",
      "234             1800                  4         4       9    27            40            2\n",
      "235             1800                 26         4       9    29            10            2\n",
      "236             1200                 10         4       7    21            10            2\n",
      "237              300                  4         1      15    47            52            2\n",
      "238             2100                  4         4       9    27            40            2\n",
      "239             1014                 18         4       2     6            40            0\n",
      "240             2100                 26         1      10    32            51            2\n",
      "241             2115                 26         0       3     9             3            2\n",
      "242             2300                 13         0       5    15            14            2\n",
      "243             2005                  4         4       2     6            40            2\n",
      "244             2130                  4         1      15    47            53            2\n",
      "246             1400                  0         1       8    24            51            1\n",
      "247             2230                  4         2      13    41            17            2\n",
      "248             1145                 18         4       7    23             5            0\n",
      "249             1150                 18         4       2     7            54            0\n",
      "250             1115                 18         4       2     6            40            0\n",
      "251             1100                 10         1       8    26            47            2\n",
      "252             1230                 27         4       7    23             5            2\n",
      "253             1700                 13         1       0     1            43            2\n",
      "254             1130                 10         0       5    15            14            2\n",
      "255              900                 10         0       3    11             3            2\n",
      "256             1700                 12         2      14    42            36            2\n",
      "257              800                  4         4      12    37            32            2\n",
      "258              800                 26         4       7    22            31            2\n",
      "259             1000                 13         2      14    42            36            2\n",
      "260              930                  4         0       5    15            14            2\n",
      "261             1115                 13         2      13    39            27            2\n",
      "262             2046                 27         4       9    29            10            2\n",
      "263             1310                 20         1       8    26            47            1\n",
      "264             1310                 20         1       8    26            47            1\n",
      "...              ...                ...       ...     ...   ...           ...          ...\n",
      "523339          1200                  4         3      16    50            13            2\n",
      "523340          1343                 22         0       3     9             3            2\n",
      "523341          1354                 10         0       1     3             3            2\n",
      "523342          1000                  4         3       4    14            16            2\n",
      "523343           430                  4         3      16    49            15            2\n",
      "523344          1713                 27         1      15    47            52            2\n",
      "523345          1300                 13         3      16    49             0            2\n",
      "523346          1500                  5         4       7    23             5            1\n",
      "523347          1501                 27         1       6    18            46            2\n",
      "523348          1508                 28         3      16    49             0            1\n",
      "523349          1300                  8         1       8    24            47            2\n",
      "523350          1700                 13         1       0     0             2            2\n",
      "523351           717                 28         0       3    11            14            1\n",
      "523352          1548                 27         0       3     9             3            2\n",
      "523353          1606                 29         1       6    20            52            0\n",
      "523354          1609                 28         4       7    22             5            1\n",
      "523355          1310                  4         4      12    38            32            2\n",
      "523356          1837                  4         1       6    19             1            2\n",
      "523357             0                  8         1       0     0             2            2\n",
      "523358          1817                 18         1       6    19             1            0\n",
      "523359          1645                 10         4      12    38            32            2\n",
      "523360          1725                  0         4       7    23             5            1\n",
      "523361          1731                 22         0       3    10             3            2\n",
      "523362           310                  4         1       0     2            43            2\n",
      "523363          1821                 27         4       9    27            10            2\n",
      "523364          1801                 10         1       6    18             1            2\n",
      "523365          1808                 18         4       7    22             5            0\n",
      "523366             0                 21         3      16    49             0            1\n",
      "523367          1840                 27         0       3    10             3            2\n",
      "523368          1845                 12         4       9    29            10            2\n",
      "523369             0                  4         2      11    35            45            2\n",
      "523370          1916                 27         1       6    18             1            2\n",
      "523371          1921                  1         3       4    14            38            1\n",
      "523372          1800                  4         1       0     0             2            2\n",
      "523373          1800                 13         3      16    50            50            2\n",
      "523374          1958                 12         4      12    38            32            2\n",
      "523375          2000                  0         4       7    23             5            1\n",
      "523376          2005                 13         0       1     3             3            2\n",
      "523377          2300                  8         3      16    49             0            2\n",
      "523378          1900                  8         4      12    37            32            2\n",
      "523379          2010                  4         3       4    14            37            2\n",
      "523380          2159                  0         4       7    23             5            1\n",
      "523381          2220                  9         4      12    38            32            1\n",
      "523382          2236                 10         2      13    41             7            2\n",
      "523383          2300                  3         1       0     2            57            2\n",
      "523384          2120                  4         4       7    21            10            2\n",
      "523385          2300                 26         1       0     0             2            2\n",
      "523386          2318                  1         2      13    41             7            1\n",
      "523387          2318                 12         2      13    40            24            2\n",
      "523388          2326                 29         1      15    46            56            0\n",
      "523389          2332                 24         1       6    18             1            2\n",
      "523390          1230                  8         0       3    11            14            2\n",
      "523391            30                 28         1       0     2            43            1\n",
      "523392          1200                 21         4      12    36            49            1\n",
      "523393           102                 12         1       6    18             1            2\n",
      "523394           114                 14         0       1     3            11            1\n",
      "523395           119                 26         0       1     3             4            2\n",
      "523396           130                  4         0       1     3             3            2\n",
      "523397           214                 28         1      15    45            56            1\n",
      "523398           221                  1         1      10    30            41            1\n",
      "523399            10                 22         1       6    20            52            2\n",
      "523400           334                 18         1       6    20            52            0\n",
      "523401           347                  4         0       3    10             3            2\n",
      "523402             0                  4         4       2     7            54            2\n",
      "523403             1                  4         2      13    41             7            2\n",
      "523404           520                 13         1       0     1            43            2\n",
      "523405           612                 29         4       2     7            54            0\n",
      "523406           627                  3         1      15    46            56            2\n",
      "523407           632                 28         4       7    23             5            1\n",
      "523408           636                 27         1      15    46            56            2\n",
      "523409           647                 12         0       3    11            14            2\n",
      "523410           345                  4         4       7    22            10            2\n",
      "523411           100                  4         4      12    37            32            2\n",
      "523412           732                 13         1      10    30            41            2\n",
      "523413           827                 18         1      10    32            51            0\n",
      "523414           741                 29         0       5    17            18            0\n",
      "523415           800                  6         1       0     2            57            1\n",
      "523416          2300                  8         1       6    19             1            2\n",
      "523417          1700                  8         4      12    37            32            2\n",
      "523418           804                 27         1      15    46            56            2\n",
      "523419          2300                  8         1       6    18             1            2\n",
      "523420           807                 18         4       7    23             5            0\n",
      "523421          1600                  4         4       2     7            54            2\n",
      "523422          2200                 10         0       5    16            14            2\n",
      "523423           839                 27         1      15    46            56            2\n",
      "523424          2300                  3         4       2     8            54            2\n",
      "523425          1700                  4         2      13    39            27            2\n",
      "523426           914                 14         1       8    26            47            1\n",
      "523427           937                  0         1       0     2            43            1\n",
      "523428          1700                 13         1      10    30            41            2\n",
      "523429           930                  4         1       6    19            29            2\n",
      "523430             0                  9         1      15    47            53            1\n",
      "523431            30                 12         2      11    34            55            2\n",
      "523432          1715                 27         1       8    26            47            2\n",
      "523433             0                 25         1      15    47            53            2\n",
      "523434          1030                 13         0       1     3             3            2\n",
      "523435          1054                 27         4       9    29            10            2\n",
      "523436           600                 13         1       8    26            47            2\n",
      "523437          1030                 29         3       4    13            35            0\n",
      "523438          2000                 27         4       7    22            31            2\n",
      "523439          2359                  4         4      12    37            32            2\n",
      "523440          1112                 25         3       4    13            35            2\n",
      "523441          1113                 13         4       7    23             5            2\n",
      "523442           225                 12         1      15    46            56            2\n",
      "523443           945                  4         0       1     5             4            2\n",
      "523444          1100                 10         4       7    21            10            2\n",
      "523445          1200                 10         1       8    26            47            2\n",
      "523446          1214                 13         1      15    45            52            2\n",
      "523447          1900                  4         1       6    20            52            2\n",
      "523448           700                 10         1       8    25            51            2\n",
      "523449           545                 10         4      12    37            32            2\n",
      "523450          1310                 18         4       9    27            40            0\n",
      "523451          1238                  0         1       0     0             2            1\n",
      "523452          1253                  9         0       3    11            14            1\n",
      "523453          1323                 12         2      14    44            34            2\n",
      "523454           400                  8         3       4    12            15            2\n",
      "523455          1212                 10         4       2     7            32            2\n",
      "523456           100                  9         1      15    46            56            1\n",
      "523457          1345                  8         0       5    17            48            2\n",
      "523458           830                 26         4       7    21            10            2\n",
      "523459          1353                 27         1      15    47            52            2\n",
      "523460           800                  0         1      15    45            56            1\n",
      "523461          1330                 27         4       9    28            10            2\n",
      "523462          1900                  4         1       0     0             2            2\n",
      "523463          1430                 14         4       7    23             5            1\n",
      "523464          1442                 18         4       7    23             5            0\n",
      "523465          1441                 28         2      11    33            55            1\n",
      "523466          1450                 13         2      13    41            19            2\n",
      "523467          1501                 28         2      13    39            27            1\n",
      "523468          1502                 27         4       9    29            10            2\n",
      "523469             1                  6         2      14    43            42            1\n",
      "523470          1521                  1         4       2     6            40            1\n",
      "523471          1527                 28         0       3     9             3            1\n",
      "523472          1600                  0         4       7    22            31            1\n",
      "523473          1400                  4         0       1     5             4            2\n",
      "523474             1                  8         2      11    33            55            2\n",
      "523475          1620                 27         2      11    33            55            2\n",
      "523476          1615                 28         4       2     6            40            1\n",
      "523477          1745                 26         1       8    26            47            2\n",
      "523478           900                  2         4      12    37            32            2\n",
      "523479          1636                 27         2      13    40            27            2\n",
      "523480          1919                  6         4       9    27            10            1\n",
      "523481           938                 12         4       2     6            40            2\n",
      "523482          1600                  4         1      15    45            56            2\n",
      "523483          1750                 27         1      15    47            52            2\n",
      "523484          1530                 10         3      16    50            13            2\n",
      "523485          1752                 13         0       1     3             3            2\n",
      "523486          1822                 27         1       6    19             1            2\n",
      "523487          1835                  1         4      12    36            49            1\n",
      "523488          1807                 10         3       4    12            30            2\n",
      "523489          2000                 21         4      12    36            49            1\n",
      "523490          1829                 13         4      12    36            49            2\n",
      "523491          1919                 27         1      15    47            52            2\n",
      "523492          1935                 26         2      11    33            55            2\n",
      "523493          2004                 27         1      15    47            52            2\n",
      "523494           930                  8         1       0     1            43            2\n",
      "523495          2035                  0         1       6    18            46            1\n",
      "523496          1800                  8         0       1     5            48            2\n",
      "523497          2040                 28         0       3     9             3            1\n",
      "523498          2052                 13         1      15    45            52            2\n",
      "523499          2200                 18         2      11    33            55            0\n",
      "523500          2120                  0         0       3     9             3            1\n",
      "523501          2130                 13         1      10    30            41            2\n",
      "523502          2210                 14         1       6    18            46            1\n",
      "523503          2100                  4         2      14    44            34            2\n",
      "523504          2220                  4         4       2     8            54            2\n",
      "523505          2324                 13         0       1     4             4            2\n",
      "523506          1000                 28         1       0     0             2            1\n",
      "523507          1730                 12         2      11    35            45            2\n",
      "523508           413                 28         4       9    28            54            1\n",
      "523509           458                  0         4       7    21            10            1\n",
      "523510           512                  8         3      16    49            15            2\n",
      "523511           559                 28         4       2     8            54            1\n",
      "523512           647                 12         1      10    31            51            2\n",
      "523513          1016                 28         1      15    45            56            1\n",
      "523514           704                  4         4       7    23             5            2\n",
      "523515          1800                  4         4      12    38            32            2\n",
      "523516           751                  4         1       0     1            43            2\n",
      "523517           932                 26         4      12    38            32            2\n",
      "523518          1926                 22         4       7    23             5            2\n",
      "523519           818                  3         1       8    26            47            2\n",
      "523520          1700                  3         1       8    25            51            2\n",
      "523521           833                 12         1      10    32            51            2\n",
      "523522          1830                 13         4      12    37            32            2\n",
      "523523           851                 24         2      14    44            34            2\n",
      "523524           942                 27         1      15    46            56            2\n",
      "523525          1510                  4         4       9    29            10            2\n",
      "523526           954                 13         1       8    25            52            2\n",
      "523527          1023                 28         0       1     3             3            1\n",
      "523528          1023                 14         0       3    10             3            0\n",
      "523529             1                 10         0       1     5             4            2\n",
      "523530          1055                 28         4       7    21            10            1\n",
      "523531           600                  8         0       3     9             3            2\n",
      "523532          1915                  8         0       5    16             4            2\n",
      "523533          2200                  8         1       8    24            51            2\n",
      "523534          1300                  8         4       2     7            32            2\n",
      "523535           900                 13         1       8    24            51            2\n",
      "523536          1128                  8         1       8    24            51            2\n",
      "523537          1141                 27         2      11    33            55            2\n",
      "523538          1145                 27         1      15    46            56            2\n",
      "523539          1152                 18         2      11    33            55            0\n",
      "523540          1153                 27         4       9    27            40            2\n",
      "523541          2100                  3         1      15    45            52            2\n",
      "523542          2200                  4         4       2     8            54            2\n",
      "523543            34                 10         1       6    20            46            2\n",
      "523544           800                 10         1      10    31            41            2\n",
      "523545          1030                  4         2      13    41            19            2\n",
      "523546          1040                 27         4       9    29            10            2\n",
      "523547          1900                  8         0       5    17            18            2\n",
      "523548           900                 10         4       9    28            10            2\n",
      "523549          1237                 29         4       9    27            10            0\n",
      "523550          1345                 28         0       5    15            14            1\n",
      "523551          1334                 18         4       9    27            10            0\n",
      "523552          1200                 13         1      15    47            53            2\n",
      "523553          1308                 27         4       9    27            10            2\n",
      "523554          1310                 27         1      10    31            51            2\n",
      "523555           230                 28         4       9    29            10            1\n",
      "523556          1318                 10         1      10    32            51            2\n",
      "523557          1327                  4         0       3    11            14            2\n",
      "523559          1200                 10         1      15    45            56            2\n",
      "523560          1313                 27         1      15    47            52            2\n",
      "523561             0                  4         0       3    10             3            2\n",
      "523562          2100                 13         1       6    18             1            2\n",
      "523563          1410                 27         4       9    29            10            2\n",
      "523564          1757                 10         4      12    36            49            2\n",
      "523565          1051                 22         4       9    28            10            2\n",
      "523566          1410                 28         4       2     7            54            1\n",
      "523567          1050                 27         1       0     0             2            2\n",
      "523568          2230                 12         1       0     1             2            2\n",
      "523569           300                 13         3      16    50            50            2\n",
      "523570             0                 28         1       8    24            51            1\n",
      "523571          1600                 13         2      14    44            34            2\n",
      "523572          1200                 13         3       4    13            35            2\n",
      "523573          1541                  9         4       9    27            10            1\n",
      "523574           900                  8         1      10    30            41            2\n",
      "523575          1549                 10         1      15    45            52            2\n",
      "523576          1930                  8         1       8    24            47            2\n",
      "523577          1610                 27         4       2     8            54            2\n",
      "523578          1618                 28         4       7    22            31            1\n",
      "523579          1614                 27         1      15    47            52            2\n",
      "523580          1632                  1         1      10    31            51            1\n",
      "523581          1106                 27         0       1     3            22            2\n",
      "523582           259                 12         1      15    45            52            2\n",
      "523583          1655                  0         4       7    23             5            1\n",
      "523584          1330                 26         1       0     1            29            2\n",
      "523585          1713                  6         2      11    35            21            1\n",
      "523586           730                 13         0       1     4            23            2\n",
      "523587          1724                 22         2      14    43            33            2\n",
      "523588          1750                 27         1       8    25            51            2\n",
      "523589          1800                 10         1      10    30            41            2\n",
      "\n",
      "[519961 rows x 7 columns]\n"
     ]
    }
   ],
   "source": [
    "crime_sub_feat = crime_sub_clean.drop([\"Report_Number\", \"Reported_Time\", \"Response_Time\", \"Primary_Offense_Description\"], axis=1)\n",
    "print(crime_sub_feat)# Drop the columns which are not needed"
   ]
  },
  {
   "cell_type": "markdown",
   "metadata": {},
   "source": [
    "#### Creating the target and features sets for splitting"
   ]
  },
  {
   "cell_type": "code",
   "execution_count": 26,
   "metadata": {},
   "outputs": [
    {
     "data": {
      "text/plain": [
       "New_Pri_Off\n",
       "0     23145\n",
       "1     72977\n",
       "2    423839\n",
       "Name: New_Pri_Off, dtype: int64"
      ]
     },
     "execution_count": 26,
     "metadata": {},
     "output_type": "execute_result"
    }
   ],
   "source": [
    "crime_target = crime_sub_feat['New_Pri_Off']\n",
    "crime_target.groupby(crime_target).count()"
   ]
  },
  {
   "cell_type": "markdown",
   "metadata": {},
   "source": [
    "#### We can see from the above that there are now 3 categories within the target 0,1 and 2 instead of 142"
   ]
  },
  {
   "cell_type": "code",
   "execution_count": 27,
   "metadata": {},
   "outputs": [
    {
     "data": {
      "text/html": [
       "<div>\n",
       "<style scoped>\n",
       "    .dataframe tbody tr th:only-of-type {\n",
       "        vertical-align: middle;\n",
       "    }\n",
       "\n",
       "    .dataframe tbody tr th {\n",
       "        vertical-align: top;\n",
       "    }\n",
       "\n",
       "    .dataframe thead th {\n",
       "        text-align: right;\n",
       "    }\n",
       "</style>\n",
       "<table border=\"1\" class=\"dataframe\">\n",
       "  <thead>\n",
       "    <tr style=\"text-align: right;\">\n",
       "      <th></th>\n",
       "      <th>Occurred_Time</th>\n",
       "      <th>Crime_Subcategory</th>\n",
       "      <th>Precinct</th>\n",
       "      <th>Sector</th>\n",
       "      <th>Beat</th>\n",
       "      <th>Neighborhood</th>\n",
       "    </tr>\n",
       "  </thead>\n",
       "  <tbody>\n",
       "    <tr>\n",
       "      <th>0</th>\n",
       "      <td>900</td>\n",
       "      <td>13</td>\n",
       "      <td>2</td>\n",
       "      <td>13</td>\n",
       "      <td>41</td>\n",
       "      <td>19</td>\n",
       "    </tr>\n",
       "    <tr>\n",
       "      <th>2</th>\n",
       "      <td>1600</td>\n",
       "      <td>4</td>\n",
       "      <td>0</td>\n",
       "      <td>5</td>\n",
       "      <td>16</td>\n",
       "      <td>4</td>\n",
       "    </tr>\n",
       "    <tr>\n",
       "      <th>3</th>\n",
       "      <td>2029</td>\n",
       "      <td>16</td>\n",
       "      <td>2</td>\n",
       "      <td>14</td>\n",
       "      <td>43</td>\n",
       "      <td>42</td>\n",
       "    </tr>\n",
       "    <tr>\n",
       "      <th>4</th>\n",
       "      <td>2000</td>\n",
       "      <td>13</td>\n",
       "      <td>3</td>\n",
       "      <td>16</td>\n",
       "      <td>50</td>\n",
       "      <td>35</td>\n",
       "    </tr>\n",
       "    <tr>\n",
       "      <th>5</th>\n",
       "      <td>155</td>\n",
       "      <td>8</td>\n",
       "      <td>4</td>\n",
       "      <td>9</td>\n",
       "      <td>28</td>\n",
       "      <td>54</td>\n",
       "    </tr>\n",
       "  </tbody>\n",
       "</table>\n",
       "</div>"
      ],
      "text/plain": [
       "  Occurred_Time  Crime_Subcategory  Precinct  Sector  Beat  Neighborhood\n",
       "0           900                 13         2      13    41            19\n",
       "2          1600                  4         0       5    16             4\n",
       "3          2029                 16         2      14    43            42\n",
       "4          2000                 13         3      16    50            35\n",
       "5           155                  8         4       9    28            54"
      ]
     },
     "execution_count": 27,
     "metadata": {},
     "output_type": "execute_result"
    }
   ],
   "source": [
    "crime_features = crime_sub_feat.drop(['New_Pri_Off'], axis=1)\n",
    "crime_features.head()"
   ]
  },
  {
   "cell_type": "markdown",
   "metadata": {},
   "source": [
    "#### Splitting the Features and Target datasets into Train and Test \n",
    "\n",
    "For better model performance understanding, we divided the dataset into a training set and a test set\n",
    "\n",
    "We split out dataset using the train_test_split() functions with the 2 parameters **test_size andrandom_state \n",
    "\n",
    "* By specifying the test_size as 0.2, we aim to put 20% of the data into our test set, and the rest of the data into the training set\n",
    "* Random_state is used for initializing the internal random number generator, which will decide the splitting of data into train and test indices. The number **42** is used to check and validate the data when running the code multiple times\n",
    "* **stratify** parameter makes a split so that the proportion of values in the sample produced will be the same as the proportion of values provided to parameter"
   ]
  },
  {
   "cell_type": "code",
   "execution_count": 28,
   "metadata": {},
   "outputs": [],
   "source": [
    "X_train, X_test, y_train, y_test = train_test_split(crime_features, crime_target, test_size = 0.2, random_state=42, stratify=crime_target)"
   ]
  },
  {
   "cell_type": "code",
   "execution_count": 29,
   "metadata": {},
   "outputs": [
    {
     "data": {
      "text/plain": [
       "(415968, 6)"
      ]
     },
     "execution_count": 29,
     "metadata": {},
     "output_type": "execute_result"
    },
    {
     "data": {
      "text/plain": [
       "(103993, 6)"
      ]
     },
     "execution_count": 29,
     "metadata": {},
     "output_type": "execute_result"
    },
    {
     "data": {
      "text/plain": [
       "(415968,)"
      ]
     },
     "execution_count": 29,
     "metadata": {},
     "output_type": "execute_result"
    },
    {
     "data": {
      "text/plain": [
       "(103993,)"
      ]
     },
     "execution_count": 29,
     "metadata": {},
     "output_type": "execute_result"
    }
   ],
   "source": [
    "X_train.shape\n",
    "X_test.shape\n",
    "y_train.shape\n",
    "y_test.shape"
   ]
  },
  {
   "cell_type": "markdown",
   "metadata": {},
   "source": [
    "X and Y Train/Test have the same result"
   ]
  },
  {
   "cell_type": "markdown",
   "metadata": {},
   "source": [
    "## Run the ML algorithms\n",
    "\n",
    "To work with a large dataset we went with the **Linear SVC**, **KNN-Algorithm** and **Random Forest**  Classifier.\n",
    "\n",
    "A recommendation to use which algorithm can be found here: https://scikit-learn.org/stable/tutorial/machine_learning_map/index.html"
   ]
  },
  {
   "cell_type": "markdown",
   "metadata": {},
   "source": [
    "#### 1. Linear SVC Classification Algorithm"
   ]
  },
  {
   "cell_type": "code",
   "execution_count": 30,
   "metadata": {},
   "outputs": [],
   "source": [
    "model_svm = svm.LinearSVC(C=1.0)"
   ]
  },
  {
   "cell_type": "code",
   "execution_count": 31,
   "metadata": {},
   "outputs": [
    {
     "name": "stderr",
     "output_type": "stream",
     "text": [
      "C:\\Users\\erenu\\Anaconda3\\lib\\site-packages\\sklearn\\svm\\base.py:929: ConvergenceWarning: Liblinear failed to converge, increase the number of iterations.\n",
      "  \"the number of iterations.\", ConvergenceWarning)\n"
     ]
    },
    {
     "data": {
      "text/plain": [
       "LinearSVC(C=1.0, class_weight=None, dual=True, fit_intercept=True,\n",
       "          intercept_scaling=1, loss='squared_hinge', max_iter=1000,\n",
       "          multi_class='ovr', penalty='l2', random_state=None, tol=0.0001,\n",
       "          verbose=0)"
      ]
     },
     "execution_count": 31,
     "metadata": {},
     "output_type": "execute_result"
    }
   ],
   "source": [
    "model_svm.fit(X_train, y_train)"
   ]
  },
  {
   "cell_type": "markdown",
   "metadata": {},
   "source": [
    "#### We get an Convergence Warning after a while but the algorithm still executes"
   ]
  },
  {
   "cell_type": "code",
   "execution_count": 32,
   "metadata": {},
   "outputs": [],
   "source": [
    "crime_svc_prd = model_svm.predict(X_test)"
   ]
  },
  {
   "cell_type": "code",
   "execution_count": 33,
   "metadata": {},
   "outputs": [
    {
     "data": {
      "text/plain": [
       "0.8151317877164809"
      ]
     },
     "execution_count": 33,
     "metadata": {},
     "output_type": "execute_result"
    }
   ],
   "source": [
    "model_svm.score(X_test, y_test)"
   ]
  },
  {
   "cell_type": "markdown",
   "metadata": {},
   "source": [
    "As a result we got a classification rate of **80,97%** but with a low performance. This means that 80,97 percent of the time the classifier is able to make the correct prediction for the primary crime offense"
   ]
  },
  {
   "cell_type": "code",
   "execution_count": 34,
   "metadata": {},
   "outputs": [],
   "source": [
    "from sklearn.model_selection import cross_val_score"
   ]
  },
  {
   "cell_type": "markdown",
   "metadata": {},
   "source": [
    "#### Crossvalidation for Linear SVC Classification"
   ]
  },
  {
   "cell_type": "code",
   "execution_count": 36,
   "metadata": {},
   "outputs": [
    {
     "name": "stderr",
     "output_type": "stream",
     "text": [
      "C:\\Users\\erenu\\Anaconda3\\lib\\site-packages\\sklearn\\svm\\base.py:929: ConvergenceWarning: Liblinear failed to converge, increase the number of iterations.\n",
      "  \"the number of iterations.\", ConvergenceWarning)\n",
      "C:\\Users\\erenu\\Anaconda3\\lib\\site-packages\\sklearn\\svm\\base.py:929: ConvergenceWarning: Liblinear failed to converge, increase the number of iterations.\n",
      "  \"the number of iterations.\", ConvergenceWarning)\n",
      "C:\\Users\\erenu\\Anaconda3\\lib\\site-packages\\sklearn\\svm\\base.py:929: ConvergenceWarning: Liblinear failed to converge, increase the number of iterations.\n",
      "  \"the number of iterations.\", ConvergenceWarning)\n",
      "C:\\Users\\erenu\\Anaconda3\\lib\\site-packages\\sklearn\\svm\\base.py:929: ConvergenceWarning: Liblinear failed to converge, increase the number of iterations.\n",
      "  \"the number of iterations.\", ConvergenceWarning)\n",
      "C:\\Users\\erenu\\Anaconda3\\lib\\site-packages\\sklearn\\svm\\base.py:929: ConvergenceWarning: Liblinear failed to converge, increase the number of iterations.\n",
      "  \"the number of iterations.\", ConvergenceWarning)\n"
     ]
    },
    {
     "data": {
      "text/plain": [
       "0    0.435087\n",
       "1    0.791188\n",
       "2    0.815140\n",
       "3    0.815140\n",
       "4    0.815138\n",
       "dtype: float64"
      ]
     },
     "execution_count": 36,
     "metadata": {},
     "output_type": "execute_result"
    }
   ],
   "source": [
    "svm_cv = pd.Series(cross_val_score(model_svm, crime_features, crime_target, cv=5))\n",
    "svm_cv"
   ]
  },
  {
   "cell_type": "markdown",
   "metadata": {},
   "source": [
    "Now lets see how accurate the second Algorithm performs"
   ]
  },
  {
   "cell_type": "markdown",
   "metadata": {},
   "source": [
    "#### 2. k-NN Classifier"
   ]
  },
  {
   "cell_type": "markdown",
   "metadata": {},
   "source": [
    "#### Create a k-NN classifier with 6 neighbors\n",
    "\n",
    "Create KNN classifier object by passing argument number of neighbors in KNeighborsClassifier() function"
   ]
  },
  {
   "cell_type": "code",
   "execution_count": 37,
   "metadata": {},
   "outputs": [],
   "source": [
    "knn = KNeighborsClassifier(n_neighbors=6) "
   ]
  },
  {
   "cell_type": "markdown",
   "metadata": {},
   "source": [
    "#### Fit the classifier to the data\n",
    "\n",
    "We train our model using the training sets"
   ]
  },
  {
   "cell_type": "code",
   "execution_count": 38,
   "metadata": {},
   "outputs": [
    {
     "data": {
      "text/plain": [
       "KNeighborsClassifier(algorithm='auto', leaf_size=30, metric='minkowski',\n",
       "                     metric_params=None, n_jobs=None, n_neighbors=6, p=2,\n",
       "                     weights='uniform')"
      ]
     },
     "execution_count": 38,
     "metadata": {},
     "output_type": "execute_result"
    }
   ],
   "source": [
    "knn.fit(X_train, y_train)"
   ]
  },
  {
   "cell_type": "markdown",
   "metadata": {},
   "source": [
    "#### Print the accuracy\n",
    "\n",
    "Accuracy can be computed by comparing actual test set values and predicted values"
   ]
  },
  {
   "cell_type": "code",
   "execution_count": 39,
   "metadata": {},
   "outputs": [
    {
     "name": "stdout",
     "output_type": "stream",
     "text": [
      "0.8765397670997086\n"
     ]
    }
   ],
   "source": [
    "print(knn.score(X_test, y_test))"
   ]
  },
  {
   "cell_type": "markdown",
   "metadata": {},
   "source": [
    "As a result we got a classification rate of **87,65%**. This means that 87,65 percent of the time the classifier is able to make the correct prediction for the primary crime offense\n",
    "\n",
    " **Also the Algorithm runs significantly faster and smoothly and more stable**"
   ]
  },
  {
   "cell_type": "markdown",
   "metadata": {},
   "source": [
    "#### Setup arrays to store train and test accuracies"
   ]
  },
  {
   "cell_type": "code",
   "execution_count": 40,
   "metadata": {},
   "outputs": [],
   "source": [
    "import matplotlib.pyplot as plt #Import modul for plotting\n",
    "%matplotlib inline\n",
    "import seaborn as sns\n",
    "neighbors = np.arange(1, 9)\n",
    "train_accuracy = np.empty(len(neighbors))\n",
    "test_accuracy = np.empty(len(neighbors))"
   ]
  },
  {
   "cell_type": "markdown",
   "metadata": {},
   "source": [
    "#### Loop over different values of k with the hyperparameter tuning and GridSearchCV to find the best score\n"
   ]
  },
  {
   "cell_type": "code",
   "execution_count": 41,
   "metadata": {},
   "outputs": [
    {
     "data": {
      "text/plain": [
       "KNeighborsClassifier(algorithm='auto', leaf_size=30, metric='minkowski',\n",
       "                     metric_params=None, n_jobs=None, n_neighbors=1, p=2,\n",
       "                     weights='uniform')"
      ]
     },
     "execution_count": 41,
     "metadata": {},
     "output_type": "execute_result"
    },
    {
     "data": {
      "text/plain": [
       "0.9067725712307559"
      ]
     },
     "execution_count": 41,
     "metadata": {},
     "output_type": "execute_result"
    },
    {
     "data": {
      "text/plain": [
       "KNeighborsClassifier(algorithm='auto', leaf_size=30, metric='minkowski',\n",
       "                     metric_params=None, n_jobs=None, n_neighbors=2, p=2,\n",
       "                     weights='uniform')"
      ]
     },
     "execution_count": 41,
     "metadata": {},
     "output_type": "execute_result"
    },
    {
     "data": {
      "text/plain": [
       "0.8825305549411979"
      ]
     },
     "execution_count": 41,
     "metadata": {},
     "output_type": "execute_result"
    },
    {
     "data": {
      "text/plain": [
       "KNeighborsClassifier(algorithm='auto', leaf_size=30, metric='minkowski',\n",
       "                     metric_params=None, n_jobs=None, n_neighbors=3, p=2,\n",
       "                     weights='uniform')"
      ]
     },
     "execution_count": 41,
     "metadata": {},
     "output_type": "execute_result"
    },
    {
     "data": {
      "text/plain": [
       "0.8901849162924428"
      ]
     },
     "execution_count": 41,
     "metadata": {},
     "output_type": "execute_result"
    },
    {
     "data": {
      "text/plain": [
       "KNeighborsClassifier(algorithm='auto', leaf_size=30, metric='minkowski',\n",
       "                     metric_params=None, n_jobs=None, n_neighbors=4, p=2,\n",
       "                     weights='uniform')"
      ]
     },
     "execution_count": 41,
     "metadata": {},
     "output_type": "execute_result"
    },
    {
     "data": {
      "text/plain": [
       "0.8829632763743713"
      ]
     },
     "execution_count": 41,
     "metadata": {},
     "output_type": "execute_result"
    },
    {
     "data": {
      "text/plain": [
       "KNeighborsClassifier(algorithm='auto', leaf_size=30, metric='minkowski',\n",
       "                     metric_params=None, n_jobs=None, n_neighbors=5, p=2,\n",
       "                     weights='uniform')"
      ]
     },
     "execution_count": 41,
     "metadata": {},
     "output_type": "execute_result"
    },
    {
     "data": {
      "text/plain": [
       "0.8806458126989316"
      ]
     },
     "execution_count": 41,
     "metadata": {},
     "output_type": "execute_result"
    },
    {
     "data": {
      "text/plain": [
       "KNeighborsClassifier(algorithm='auto', leaf_size=30, metric='minkowski',\n",
       "                     metric_params=None, n_jobs=None, n_neighbors=6, p=2,\n",
       "                     weights='uniform')"
      ]
     },
     "execution_count": 41,
     "metadata": {},
     "output_type": "execute_result"
    },
    {
     "data": {
      "text/plain": [
       "0.8765397670997086"
      ]
     },
     "execution_count": 41,
     "metadata": {},
     "output_type": "execute_result"
    },
    {
     "data": {
      "text/plain": [
       "KNeighborsClassifier(algorithm='auto', leaf_size=30, metric='minkowski',\n",
       "                     metric_params=None, n_jobs=None, n_neighbors=7, p=2,\n",
       "                     weights='uniform')"
      ]
     },
     "execution_count": 41,
     "metadata": {},
     "output_type": "execute_result"
    },
    {
     "data": {
      "text/plain": [
       "0.8739434385006684"
      ]
     },
     "execution_count": 41,
     "metadata": {},
     "output_type": "execute_result"
    },
    {
     "data": {
      "text/plain": [
       "KNeighborsClassifier(algorithm='auto', leaf_size=30, metric='minkowski',\n",
       "                     metric_params=None, n_jobs=None, n_neighbors=8, p=2,\n",
       "                     weights='uniform')"
      ]
     },
     "execution_count": 41,
     "metadata": {},
     "output_type": "execute_result"
    },
    {
     "data": {
      "text/plain": [
       "0.870539363226371"
      ]
     },
     "execution_count": 41,
     "metadata": {},
     "output_type": "execute_result"
    }
   ],
   "source": [
    "for i, k in enumerate(np.arange(1, 9)):\n",
    "    # Setup a k-NN Classifier with k neighbors: knn\n",
    "    knn = KNeighborsClassifier(n_neighbors=k)\n",
    "    knn.fit(X_train, y_train)\n",
    "    knn.score(X_test, y_test)"
   ]
  },
  {
   "cell_type": "markdown",
   "metadata": {},
   "source": [
    "Neighbor **1** has the highest accuracy score with **90,67%**"
   ]
  },
  {
   "cell_type": "markdown",
   "metadata": {},
   "source": [
    " #### Fit the classifier to the training data and apply GridSearchCV for best Score\n",
    " \n",
    " Apply our model to data"
   ]
  },
  {
   "cell_type": "code",
   "execution_count": 42,
   "metadata": {},
   "outputs": [],
   "source": [
    "knnfinal = KNeighborsClassifier(n_neighbors=3)"
   ]
  },
  {
   "cell_type": "code",
   "execution_count": 43,
   "metadata": {},
   "outputs": [
    {
     "data": {
      "text/plain": [
       "KNeighborsClassifier(algorithm='auto', leaf_size=30, metric='minkowski',\n",
       "                     metric_params=None, n_jobs=None, n_neighbors=3, p=2,\n",
       "                     weights='uniform')"
      ]
     },
     "execution_count": 43,
     "metadata": {},
     "output_type": "execute_result"
    }
   ],
   "source": [
    "knnfinal.fit(X_train, y_train)"
   ]
  },
  {
   "cell_type": "code",
   "execution_count": 44,
   "metadata": {},
   "outputs": [
    {
     "data": {
      "text/plain": [
       "0.8901849162924428"
      ]
     },
     "execution_count": 44,
     "metadata": {},
     "output_type": "execute_result"
    }
   ],
   "source": [
    "knnfinal.score(X_test, y_test)"
   ]
  },
  {
   "cell_type": "code",
   "execution_count": 45,
   "metadata": {},
   "outputs": [],
   "source": [
    "from sklearn.model_selection import cross_val_score"
   ]
  },
  {
   "cell_type": "markdown",
   "metadata": {},
   "source": [
    "#### Crossvalidation with k = 5 neighbors"
   ]
  },
  {
   "cell_type": "code",
   "execution_count": 46,
   "metadata": {},
   "outputs": [
    {
     "data": {
      "text/plain": [
       "0    0.889194\n",
       "1    0.891070\n",
       "2    0.892751\n",
       "3    0.881606\n",
       "4    0.875489\n",
       "dtype: float64"
      ]
     },
     "execution_count": 46,
     "metadata": {},
     "output_type": "execute_result"
    }
   ],
   "source": [
    "finalcross = pd.Series(cross_val_score(knnfinal, crime_features, crime_target, cv=5))\n",
    "finalcross"
   ]
  },
  {
   "cell_type": "code",
   "execution_count": 47,
   "metadata": {},
   "outputs": [
    {
     "data": {
      "text/plain": [
       "<matplotlib.axes._subplots.AxesSubplot at 0x23e971f6eb8>"
      ]
     },
     "execution_count": 47,
     "metadata": {},
     "output_type": "execute_result"
    },
    {
     "data": {
      "image/png": "[encoded data removed]",
      "text/plain": [
       "<Figure size 432x288 with 1 Axes>"
      ]
     },
     "metadata": {
      "needs_background": "light"
     },
     "output_type": "display_data"
    }
   ],
   "source": [
    "finalcross.plot.box()"
   ]
  },
  {
   "cell_type": "markdown",
   "metadata": {},
   "source": [
    "The plot blox shows that the median score is 89% and that there is a deviation from 1%"
   ]
  },
  {
   "cell_type": "markdown",
   "metadata": {},
   "source": [
    "#### Recording and plotting test vs train accuracy for GridSearchCV"
   ]
  },
  {
   "cell_type": "code",
   "execution_count": 48,
   "metadata": {},
   "outputs": [],
   "source": [
    "for i, k in enumerate(neighbors):\n",
    "    # Setup a k-NN Classifier with k neighbors: knn\n",
    "    test_accuracy[i] = knnfinal.score(X_test, y_test)\n",
    "    train_accuracy[i] = knnfinal.score(X_train, y_train)"
   ]
  },
  {
   "cell_type": "code",
   "execution_count": 49,
   "metadata": {},
   "outputs": [
    {
     "data": {
      "text/plain": [
       "Text(0.5, 1.0, 'k-NN: Varying Number of Neighbors')"
      ]
     },
     "execution_count": 49,
     "metadata": {},
     "output_type": "execute_result"
    },
    {
     "data": {
      "text/plain": [
       "[<matplotlib.lines.Line2D at 0x23e9de9a630>]"
      ]
     },
     "execution_count": 49,
     "metadata": {},
     "output_type": "execute_result"
    },
    {
     "data": {
      "text/plain": [
       "[<matplotlib.lines.Line2D at 0x23e9deaa390>]"
      ]
     },
     "execution_count": 49,
     "metadata": {},
     "output_type": "execute_result"
    },
    {
     "data": {
      "text/plain": [
       "<matplotlib.legend.Legend at 0x23e9dece208>"
      ]
     },
     "execution_count": 49,
     "metadata": {},
     "output_type": "execute_result"
    },
    {
     "data": {
      "text/plain": [
       "Text(0.5, 0, 'Number of Neighbors')"
      ]
     },
     "execution_count": 49,
     "metadata": {},
     "output_type": "execute_result"
    },
    {
     "data": {
      "text/plain": [
       "Text(0, 0.5, 'Accuracy')"
      ]
     },
     "execution_count": 49,
     "metadata": {},
     "output_type": "execute_result"
    },
    {
     "data": {
      "image/png": "[encoded data removed]",
      "text/plain": [
       "<Figure size 432x288 with 1 Axes>"
      ]
     },
     "metadata": {
      "needs_background": "light"
     },
     "output_type": "display_data"
    }
   ],
   "source": [
    "plt.title('k-NN: Varying Number of Neighbors')\n",
    "plt.plot(neighbors, test_accuracy, label = 'Testing Accuracy')\n",
    "plt.plot(neighbors, train_accuracy, label = 'Training Accuracy')\n",
    "plt.legend()\n",
    "plt.xlabel('Number of Neighbors')\n",
    "plt.ylabel('Accuracy')\n",
    "plt.show()"
   ]
  },
  {
   "cell_type": "markdown",
   "metadata": {},
   "source": [
    "#### 3. Random Forest Classifier"
   ]
  },
  {
   "cell_type": "code",
   "execution_count": 50,
   "metadata": {},
   "outputs": [],
   "source": [
    "from sklearn import metrics\n",
    "from sklearn.metrics import precision_recall_curve\n",
    "from sklearn.metrics import auc\n",
    "from sklearn.ensemble import RandomForestClassifier\n",
    "from sklearn.tree import DecisionTreeClassifier"
   ]
  },
  {
   "cell_type": "code",
   "execution_count": 51,
   "metadata": {},
   "outputs": [],
   "source": [
    "model_rf = RandomForestClassifier(n_estimators=100)"
   ]
  },
  {
   "cell_type": "code",
   "execution_count": 52,
   "metadata": {},
   "outputs": [
    {
     "data": {
      "text/plain": [
       "RandomForestClassifier(bootstrap=True, class_weight=None, criterion='gini',\n",
       "                       max_depth=None, max_features='auto', max_leaf_nodes=None,\n",
       "                       min_impurity_decrease=0.0, min_impurity_split=None,\n",
       "                       min_samples_leaf=1, min_samples_split=2,\n",
       "                       min_weight_fraction_leaf=0.0, n_estimators=100,\n",
       "                       n_jobs=None, oob_score=False, random_state=None,\n",
       "                       verbose=0, warm_start=False)"
      ]
     },
     "execution_count": 52,
     "metadata": {},
     "output_type": "execute_result"
    }
   ],
   "source": [
    "model_rf.fit(X_train, y_train)"
   ]
  },
  {
   "cell_type": "code",
   "execution_count": 53,
   "metadata": {},
   "outputs": [],
   "source": [
    "y_pred = model_rf.predict(X_test)"
   ]
  },
  {
   "cell_type": "code",
   "execution_count": 54,
   "metadata": {},
   "outputs": [
    {
     "name": "stdout",
     "output_type": "stream",
     "text": [
      "0.9943938534324426\n"
     ]
    }
   ],
   "source": [
    "rf_score = model_rf.score(X_test, y_test)\n",
    "print(rf_score)"
   ]
  },
  {
   "cell_type": "markdown",
   "metadata": {},
   "source": [
    "**Random Forest has the highest performance and score with 99,46% accuracy**\n"
   ]
  },
  {
   "cell_type": "markdown",
   "metadata": {},
   "source": [
    "#### Crossvalidation for Random Forest Classifier"
   ]
  },
  {
   "cell_type": "code",
   "execution_count": 55,
   "metadata": {},
   "outputs": [],
   "source": [
    "rf_cv = pd.Series(cross_val_score(model_rf, crime_features, crime_target, cv=5))"
   ]
  },
  {
   "cell_type": "code",
   "execution_count": 56,
   "metadata": {},
   "outputs": [
    {
     "name": "stdout",
     "output_type": "stream",
     "text": [
      "0    0.994471\n",
      "1    0.995567\n",
      "2    0.996000\n",
      "3    0.994500\n",
      "4    0.993297\n",
      "dtype: float64\n"
     ]
    }
   ],
   "source": [
    "print(rf_cv)"
   ]
  },
  {
   "cell_type": "code",
   "execution_count": 57,
   "metadata": {},
   "outputs": [
    {
     "data": {
      "text/plain": [
       "<matplotlib.axes._subplots.AxesSubplot at 0x23e9ec80588>"
      ]
     },
     "execution_count": 57,
     "metadata": {},
     "output_type": "execute_result"
    },
    {
     "data": {
      "image/png": "[encoded data removed]",
      "text/plain": [
       "<Figure size 432x288 with 1 Axes>"
      ]
     },
     "metadata": {
      "needs_background": "light"
     },
     "output_type": "display_data"
    }
   ],
   "source": [
    "rf_cv.plot.box()"
   ]
  },
  {
   "cell_type": "markdown",
   "metadata": {},
   "source": [
    "The plot blox shows that the median score is 99,46% and that there is a small deviation from 0,15%"
   ]
  },
  {
   "cell_type": "markdown",
   "metadata": {},
   "source": [
    "# Conclusion"
   ]
  },
  {
   "cell_type": "markdown",
   "metadata": {},
   "source": [
    "We managed to perform our model and applied the necassary ML Algortihms\n",
    "The Random Classification was the fastest, most stable and most accurate, followed by the kNN-Neighbour Classifier. The Linear SVC Classifier had the lowest performance and score"
   ]
  },
  {
   "cell_type": "code",
   "execution_count": 60,
   "metadata": {},
   "outputs": [],
   "source": [
    "classifier_comparison = pd.concat([svm_cv, finalcross, rf_cv ], axis=1)"
   ]
  },
  {
   "cell_type": "code",
   "execution_count": 61,
   "metadata": {},
   "outputs": [
    {
     "data": {
      "text/html": [
       "<div>\n",
       "<style scoped>\n",
       "    .dataframe tbody tr th:only-of-type {\n",
       "        vertical-align: middle;\n",
       "    }\n",
       "\n",
       "    .dataframe tbody tr th {\n",
       "        vertical-align: top;\n",
       "    }\n",
       "\n",
       "    .dataframe thead th {\n",
       "        text-align: right;\n",
       "    }\n",
       "</style>\n",
       "<table border=\"1\" class=\"dataframe\">\n",
       "  <thead>\n",
       "    <tr style=\"text-align: right;\">\n",
       "      <th></th>\n",
       "      <th>SVM</th>\n",
       "      <th>kNN</th>\n",
       "      <th>RandomForest</th>\n",
       "      <th>index</th>\n",
       "    </tr>\n",
       "  </thead>\n",
       "  <tbody>\n",
       "    <tr>\n",
       "      <th>0</th>\n",
       "      <td>0.435087</td>\n",
       "      <td>0.889194</td>\n",
       "      <td>0.994471</td>\n",
       "      <td>0</td>\n",
       "    </tr>\n",
       "    <tr>\n",
       "      <th>1</th>\n",
       "      <td>0.791188</td>\n",
       "      <td>0.891070</td>\n",
       "      <td>0.995567</td>\n",
       "      <td>1</td>\n",
       "    </tr>\n",
       "    <tr>\n",
       "      <th>2</th>\n",
       "      <td>0.815140</td>\n",
       "      <td>0.892751</td>\n",
       "      <td>0.996000</td>\n",
       "      <td>2</td>\n",
       "    </tr>\n",
       "    <tr>\n",
       "      <th>3</th>\n",
       "      <td>0.815140</td>\n",
       "      <td>0.881606</td>\n",
       "      <td>0.994500</td>\n",
       "      <td>3</td>\n",
       "    </tr>\n",
       "    <tr>\n",
       "      <th>4</th>\n",
       "      <td>0.815138</td>\n",
       "      <td>0.875489</td>\n",
       "      <td>0.993297</td>\n",
       "      <td>4</td>\n",
       "    </tr>\n",
       "  </tbody>\n",
       "</table>\n",
       "</div>"
      ],
      "text/plain": [
       "        SVM       kNN  RandomForest  index\n",
       "0  0.435087  0.889194      0.994471      0\n",
       "1  0.791188  0.891070      0.995567      1\n",
       "2  0.815140  0.892751      0.996000      2\n",
       "3  0.815140  0.881606      0.994500      3\n",
       "4  0.815138  0.875489      0.993297      4"
      ]
     },
     "execution_count": 61,
     "metadata": {},
     "output_type": "execute_result"
    }
   ],
   "source": [
    "classifier_comparison[\"index\"] = list(classifier_comparison.index)\n",
    "classifier_comparison.columns=([\"SVM\", \"kNN\", \"RandomForest\", \"index\"])\n",
    "classifier_comparison"
   ]
  },
  {
   "cell_type": "markdown",
   "metadata": {},
   "source": [
    "#### Dataset description"
   ]
  },
  {
   "cell_type": "code",
   "execution_count": 62,
   "metadata": {},
   "outputs": [
    {
     "data": {
      "text/plain": [
       "<bound method NDFrame.describe of         SVM       kNN  RandomForest\n",
       "0  0.435087  0.889194      0.994471\n",
       "1  0.791188  0.891070      0.995567\n",
       "2  0.815140  0.892751      0.996000\n",
       "3  0.815140  0.881606      0.994500\n",
       "4  0.815138  0.875489      0.993297>"
      ]
     },
     "execution_count": 62,
     "metadata": {},
     "output_type": "execute_result"
    }
   ],
   "source": [
    "classifier_comparison.drop(\"index\", axis=1).describe"
   ]
  },
  {
   "cell_type": "code",
   "execution_count": 63,
   "metadata": {},
   "outputs": [
    {
     "data": {
      "text/plain": [
       "<matplotlib.axes._subplots.AxesSubplot at 0x23e9defaba8>"
      ]
     },
     "execution_count": 63,
     "metadata": {},
     "output_type": "execute_result"
    },
    {
     "data": {
      "text/plain": [
       "Text(0.5, 1.0, 'Prediction Comparison between the Classifiers')"
      ]
     },
     "execution_count": 63,
     "metadata": {},
     "output_type": "execute_result"
    },
    {
     "data": {
      "image/png": "[encoded data removed]",
      "text/plain": [
       "<Figure size 432x288 with 1 Axes>"
      ]
     },
     "metadata": {
      "needs_background": "light"
     },
     "output_type": "display_data"
    }
   ],
   "source": [
    "classifier_comparison.drop(\"index\", axis=1).plot.box()\n",
    "plt.title(\"Prediction Comparison between the Classifiers\")\n",
    "plt.show()"
   ]
  },
  {
   "cell_type": "markdown",
   "metadata": {},
   "source": [
    "The plot shows that:\n",
    "\n",
    "* **Random Forest** is the most accurate with the highest score and the best performance overall\n",
    "* **kNN** is the second best performing with an high conistency\n",
    "* **SVC** isn't performant at all and has a medium-high score"
   ]
  },
  {
   "cell_type": "markdown",
   "metadata": {},
   "source": [
    "## We managed to build an model to predict the accuracy of an upcoming occurent primary offense using 3 different ML algorithm and by comparing each other"
   ]
  }
 ],
 "metadata": {
  "kernelspec": {
   "display_name": "Python 3",
   "language": "python",
   "name": "python3"
  },
  "language_info": {
   "codemirror_mode": {
    "name": "ipython",
    "version": 3
   },
   "file_extension": ".py",
   "mimetype": "text/x-python",
   "name": "python",
   "nbconvert_exporter": "python",
   "pygments_lexer": "ipython3",
   "version": "3.7.3"
  }
 },
 "nbformat": 4,
 "nbformat_minor": 2
}
